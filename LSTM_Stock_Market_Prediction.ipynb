{
  "nbformat": 4,
  "nbformat_minor": 0,
  "metadata": {
    "colab": {
      "name": "LSTM - Stock Market Prediction",
      "provenance": [],
      "collapsed_sections": []
    },
    "kernelspec": {
      "name": "python3",
      "display_name": "Python 3"
    },
    "language_info": {
      "name": "python"
    }
  },
  "cells": [
    {
      "cell_type": "markdown",
      "source": [
        "## Data Collection"
      ],
      "metadata": {
        "id": "vU30kqo3Eb8Y"
      }
    },
    {
      "cell_type": "code",
      "source": [
        "import pandas_datareader as pdr\n",
        "key=\"d09aa7d2edec57e0978f857dcde4186dd54fd222\""
      ],
      "metadata": {
        "id": "_fO2aYzcgd3L"
      },
      "execution_count": 1,
      "outputs": []
    },
    {
      "cell_type": "code",
      "source": [
        "df = pdr.get_data_tiingo('AAPL', api_key=key)"
      ],
      "metadata": {
        "id": "6DBFeQfrgvVT",
        "colab": {
          "base_uri": "https://localhost:8080/"
        },
        "outputId": "b7755422-7522-4be1-fbf8-3f1a922246b8"
      },
      "execution_count": 2,
      "outputs": [
        {
          "output_type": "stream",
          "name": "stderr",
          "text": [
            "/usr/local/lib/python3.7/dist-packages/pandas_datareader/tiingo.py:234: FutureWarning: In a future version of pandas all arguments of concat except for the argument 'objs' will be keyword-only\n",
            "  return pd.concat(dfs, self._concat_axis)\n"
          ]
        }
      ]
    },
    {
      "cell_type": "code",
      "source": [
        "df.to_csv('AAPL.csv')"
      ],
      "metadata": {
        "id": "NY78HO6egzPo"
      },
      "execution_count": 3,
      "outputs": []
    },
    {
      "cell_type": "code",
      "source": [
        "import pandas as pd"
      ],
      "metadata": {
        "id": "n7s2vrv9g47G"
      },
      "execution_count": 4,
      "outputs": []
    },
    {
      "cell_type": "code",
      "source": [
        "df=pd.read_csv('AAPL.csv')"
      ],
      "metadata": {
        "id": "1cXi71Ctg7qR"
      },
      "execution_count": 5,
      "outputs": []
    },
    {
      "cell_type": "code",
      "source": [
        "df"
      ],
      "metadata": {
        "colab": {
          "base_uri": "https://localhost:8080/",
          "height": 641
        },
        "id": "GbRopqAhg9cd",
        "outputId": "9a827b64-2033-41e2-a010-bfcffe1a04f7"
      },
      "execution_count": 6,
      "outputs": [
        {
          "output_type": "execute_result",
          "data": {
            "text/plain": [
              "     symbol                       date   close     high     low     open  \\\n",
              "0      AAPL  2017-07-31 00:00:00+00:00  148.73  150.330  148.13  149.900   \n",
              "1      AAPL  2017-08-01 00:00:00+00:00  150.05  150.220  148.41  149.100   \n",
              "2      AAPL  2017-08-02 00:00:00+00:00  157.14  159.750  156.16  159.280   \n",
              "3      AAPL  2017-08-03 00:00:00+00:00  155.57  157.210  155.02  157.050   \n",
              "4      AAPL  2017-08-04 00:00:00+00:00  156.39  157.400  155.69  156.070   \n",
              "...     ...                        ...     ...      ...     ...      ...   \n",
              "1254   AAPL  2022-07-25 00:00:00+00:00  152.95  155.040  152.28  154.010   \n",
              "1255   AAPL  2022-07-26 00:00:00+00:00  151.60  153.085  150.80  152.265   \n",
              "1256   AAPL  2022-07-27 00:00:00+00:00  156.79  157.330  152.16  152.580   \n",
              "1257   AAPL  2022-07-28 00:00:00+00:00  157.35  157.640  154.41  156.980   \n",
              "1258   AAPL  2022-07-29 00:00:00+00:00  162.51  163.630  159.50  161.240   \n",
              "\n",
              "         volume    adjClose     adjHigh      adjLow     adjOpen  adjVolume  \\\n",
              "0      19422655   35.193025   35.571623   35.051051   35.469875   77690620   \n",
              "1      24725526   35.505368   35.545594   35.117306   35.280576   98902104   \n",
              "2      69222793   37.183030   37.800617   36.951138   37.689404  276891172   \n",
              "3      26000738   36.811530   37.199593   36.681388   37.161733  104002952   \n",
              "4      20349532   37.005562   37.244552   36.839925   36.929842   81398128   \n",
              "...         ...         ...         ...         ...         ...        ...   \n",
              "1254   53623945  152.950000  155.040000  152.280000  154.010000   53623945   \n",
              "1255   55138691  151.600000  153.085000  150.800000  152.265000   55138691   \n",
              "1256   78620688  156.790000  157.330000  152.160000  152.580000   78620688   \n",
              "1257   81378731  157.350000  157.640000  154.410000  156.980000   81378731   \n",
              "1258  101786860  162.510000  163.630000  159.500000  161.240000  101786860   \n",
              "\n",
              "      divCash  splitFactor  \n",
              "0         0.0          1.0  \n",
              "1         0.0          1.0  \n",
              "2         0.0          1.0  \n",
              "3         0.0          1.0  \n",
              "4         0.0          1.0  \n",
              "...       ...          ...  \n",
              "1254      0.0          1.0  \n",
              "1255      0.0          1.0  \n",
              "1256      0.0          1.0  \n",
              "1257      0.0          1.0  \n",
              "1258      0.0          1.0  \n",
              "\n",
              "[1259 rows x 14 columns]"
            ],
            "text/html": [
              "\n",
              "  <div id=\"df-ef5c2bb1-3796-4f89-907b-284cba4077d6\">\n",
              "    <div class=\"colab-df-container\">\n",
              "      <div>\n",
              "<style scoped>\n",
              "    .dataframe tbody tr th:only-of-type {\n",
              "        vertical-align: middle;\n",
              "    }\n",
              "\n",
              "    .dataframe tbody tr th {\n",
              "        vertical-align: top;\n",
              "    }\n",
              "\n",
              "    .dataframe thead th {\n",
              "        text-align: right;\n",
              "    }\n",
              "</style>\n",
              "<table border=\"1\" class=\"dataframe\">\n",
              "  <thead>\n",
              "    <tr style=\"text-align: right;\">\n",
              "      <th></th>\n",
              "      <th>symbol</th>\n",
              "      <th>date</th>\n",
              "      <th>close</th>\n",
              "      <th>high</th>\n",
              "      <th>low</th>\n",
              "      <th>open</th>\n",
              "      <th>volume</th>\n",
              "      <th>adjClose</th>\n",
              "      <th>adjHigh</th>\n",
              "      <th>adjLow</th>\n",
              "      <th>adjOpen</th>\n",
              "      <th>adjVolume</th>\n",
              "      <th>divCash</th>\n",
              "      <th>splitFactor</th>\n",
              "    </tr>\n",
              "  </thead>\n",
              "  <tbody>\n",
              "    <tr>\n",
              "      <th>0</th>\n",
              "      <td>AAPL</td>\n",
              "      <td>2017-07-31 00:00:00+00:00</td>\n",
              "      <td>148.73</td>\n",
              "      <td>150.330</td>\n",
              "      <td>148.13</td>\n",
              "      <td>149.900</td>\n",
              "      <td>19422655</td>\n",
              "      <td>35.193025</td>\n",
              "      <td>35.571623</td>\n",
              "      <td>35.051051</td>\n",
              "      <td>35.469875</td>\n",
              "      <td>77690620</td>\n",
              "      <td>0.0</td>\n",
              "      <td>1.0</td>\n",
              "    </tr>\n",
              "    <tr>\n",
              "      <th>1</th>\n",
              "      <td>AAPL</td>\n",
              "      <td>2017-08-01 00:00:00+00:00</td>\n",
              "      <td>150.05</td>\n",
              "      <td>150.220</td>\n",
              "      <td>148.41</td>\n",
              "      <td>149.100</td>\n",
              "      <td>24725526</td>\n",
              "      <td>35.505368</td>\n",
              "      <td>35.545594</td>\n",
              "      <td>35.117306</td>\n",
              "      <td>35.280576</td>\n",
              "      <td>98902104</td>\n",
              "      <td>0.0</td>\n",
              "      <td>1.0</td>\n",
              "    </tr>\n",
              "    <tr>\n",
              "      <th>2</th>\n",
              "      <td>AAPL</td>\n",
              "      <td>2017-08-02 00:00:00+00:00</td>\n",
              "      <td>157.14</td>\n",
              "      <td>159.750</td>\n",
              "      <td>156.16</td>\n",
              "      <td>159.280</td>\n",
              "      <td>69222793</td>\n",
              "      <td>37.183030</td>\n",
              "      <td>37.800617</td>\n",
              "      <td>36.951138</td>\n",
              "      <td>37.689404</td>\n",
              "      <td>276891172</td>\n",
              "      <td>0.0</td>\n",
              "      <td>1.0</td>\n",
              "    </tr>\n",
              "    <tr>\n",
              "      <th>3</th>\n",
              "      <td>AAPL</td>\n",
              "      <td>2017-08-03 00:00:00+00:00</td>\n",
              "      <td>155.57</td>\n",
              "      <td>157.210</td>\n",
              "      <td>155.02</td>\n",
              "      <td>157.050</td>\n",
              "      <td>26000738</td>\n",
              "      <td>36.811530</td>\n",
              "      <td>37.199593</td>\n",
              "      <td>36.681388</td>\n",
              "      <td>37.161733</td>\n",
              "      <td>104002952</td>\n",
              "      <td>0.0</td>\n",
              "      <td>1.0</td>\n",
              "    </tr>\n",
              "    <tr>\n",
              "      <th>4</th>\n",
              "      <td>AAPL</td>\n",
              "      <td>2017-08-04 00:00:00+00:00</td>\n",
              "      <td>156.39</td>\n",
              "      <td>157.400</td>\n",
              "      <td>155.69</td>\n",
              "      <td>156.070</td>\n",
              "      <td>20349532</td>\n",
              "      <td>37.005562</td>\n",
              "      <td>37.244552</td>\n",
              "      <td>36.839925</td>\n",
              "      <td>36.929842</td>\n",
              "      <td>81398128</td>\n",
              "      <td>0.0</td>\n",
              "      <td>1.0</td>\n",
              "    </tr>\n",
              "    <tr>\n",
              "      <th>...</th>\n",
              "      <td>...</td>\n",
              "      <td>...</td>\n",
              "      <td>...</td>\n",
              "      <td>...</td>\n",
              "      <td>...</td>\n",
              "      <td>...</td>\n",
              "      <td>...</td>\n",
              "      <td>...</td>\n",
              "      <td>...</td>\n",
              "      <td>...</td>\n",
              "      <td>...</td>\n",
              "      <td>...</td>\n",
              "      <td>...</td>\n",
              "      <td>...</td>\n",
              "    </tr>\n",
              "    <tr>\n",
              "      <th>1254</th>\n",
              "      <td>AAPL</td>\n",
              "      <td>2022-07-25 00:00:00+00:00</td>\n",
              "      <td>152.95</td>\n",
              "      <td>155.040</td>\n",
              "      <td>152.28</td>\n",
              "      <td>154.010</td>\n",
              "      <td>53623945</td>\n",
              "      <td>152.950000</td>\n",
              "      <td>155.040000</td>\n",
              "      <td>152.280000</td>\n",
              "      <td>154.010000</td>\n",
              "      <td>53623945</td>\n",
              "      <td>0.0</td>\n",
              "      <td>1.0</td>\n",
              "    </tr>\n",
              "    <tr>\n",
              "      <th>1255</th>\n",
              "      <td>AAPL</td>\n",
              "      <td>2022-07-26 00:00:00+00:00</td>\n",
              "      <td>151.60</td>\n",
              "      <td>153.085</td>\n",
              "      <td>150.80</td>\n",
              "      <td>152.265</td>\n",
              "      <td>55138691</td>\n",
              "      <td>151.600000</td>\n",
              "      <td>153.085000</td>\n",
              "      <td>150.800000</td>\n",
              "      <td>152.265000</td>\n",
              "      <td>55138691</td>\n",
              "      <td>0.0</td>\n",
              "      <td>1.0</td>\n",
              "    </tr>\n",
              "    <tr>\n",
              "      <th>1256</th>\n",
              "      <td>AAPL</td>\n",
              "      <td>2022-07-27 00:00:00+00:00</td>\n",
              "      <td>156.79</td>\n",
              "      <td>157.330</td>\n",
              "      <td>152.16</td>\n",
              "      <td>152.580</td>\n",
              "      <td>78620688</td>\n",
              "      <td>156.790000</td>\n",
              "      <td>157.330000</td>\n",
              "      <td>152.160000</td>\n",
              "      <td>152.580000</td>\n",
              "      <td>78620688</td>\n",
              "      <td>0.0</td>\n",
              "      <td>1.0</td>\n",
              "    </tr>\n",
              "    <tr>\n",
              "      <th>1257</th>\n",
              "      <td>AAPL</td>\n",
              "      <td>2022-07-28 00:00:00+00:00</td>\n",
              "      <td>157.35</td>\n",
              "      <td>157.640</td>\n",
              "      <td>154.41</td>\n",
              "      <td>156.980</td>\n",
              "      <td>81378731</td>\n",
              "      <td>157.350000</td>\n",
              "      <td>157.640000</td>\n",
              "      <td>154.410000</td>\n",
              "      <td>156.980000</td>\n",
              "      <td>81378731</td>\n",
              "      <td>0.0</td>\n",
              "      <td>1.0</td>\n",
              "    </tr>\n",
              "    <tr>\n",
              "      <th>1258</th>\n",
              "      <td>AAPL</td>\n",
              "      <td>2022-07-29 00:00:00+00:00</td>\n",
              "      <td>162.51</td>\n",
              "      <td>163.630</td>\n",
              "      <td>159.50</td>\n",
              "      <td>161.240</td>\n",
              "      <td>101786860</td>\n",
              "      <td>162.510000</td>\n",
              "      <td>163.630000</td>\n",
              "      <td>159.500000</td>\n",
              "      <td>161.240000</td>\n",
              "      <td>101786860</td>\n",
              "      <td>0.0</td>\n",
              "      <td>1.0</td>\n",
              "    </tr>\n",
              "  </tbody>\n",
              "</table>\n",
              "<p>1259 rows × 14 columns</p>\n",
              "</div>\n",
              "      <button class=\"colab-df-convert\" onclick=\"convertToInteractive('df-ef5c2bb1-3796-4f89-907b-284cba4077d6')\"\n",
              "              title=\"Convert this dataframe to an interactive table.\"\n",
              "              style=\"display:none;\">\n",
              "        \n",
              "  <svg xmlns=\"http://www.w3.org/2000/svg\" height=\"24px\"viewBox=\"0 0 24 24\"\n",
              "       width=\"24px\">\n",
              "    <path d=\"M0 0h24v24H0V0z\" fill=\"none\"/>\n",
              "    <path d=\"M18.56 5.44l.94 2.06.94-2.06 2.06-.94-2.06-.94-.94-2.06-.94 2.06-2.06.94zm-11 1L8.5 8.5l.94-2.06 2.06-.94-2.06-.94L8.5 2.5l-.94 2.06-2.06.94zm10 10l.94 2.06.94-2.06 2.06-.94-2.06-.94-.94-2.06-.94 2.06-2.06.94z\"/><path d=\"M17.41 7.96l-1.37-1.37c-.4-.4-.92-.59-1.43-.59-.52 0-1.04.2-1.43.59L10.3 9.45l-7.72 7.72c-.78.78-.78 2.05 0 2.83L4 21.41c.39.39.9.59 1.41.59.51 0 1.02-.2 1.41-.59l7.78-7.78 2.81-2.81c.8-.78.8-2.07 0-2.86zM5.41 20L4 18.59l7.72-7.72 1.47 1.35L5.41 20z\"/>\n",
              "  </svg>\n",
              "      </button>\n",
              "      \n",
              "  <style>\n",
              "    .colab-df-container {\n",
              "      display:flex;\n",
              "      flex-wrap:wrap;\n",
              "      gap: 12px;\n",
              "    }\n",
              "\n",
              "    .colab-df-convert {\n",
              "      background-color: #E8F0FE;\n",
              "      border: none;\n",
              "      border-radius: 50%;\n",
              "      cursor: pointer;\n",
              "      display: none;\n",
              "      fill: #1967D2;\n",
              "      height: 32px;\n",
              "      padding: 0 0 0 0;\n",
              "      width: 32px;\n",
              "    }\n",
              "\n",
              "    .colab-df-convert:hover {\n",
              "      background-color: #E2EBFA;\n",
              "      box-shadow: 0px 1px 2px rgba(60, 64, 67, 0.3), 0px 1px 3px 1px rgba(60, 64, 67, 0.15);\n",
              "      fill: #174EA6;\n",
              "    }\n",
              "\n",
              "    [theme=dark] .colab-df-convert {\n",
              "      background-color: #3B4455;\n",
              "      fill: #D2E3FC;\n",
              "    }\n",
              "\n",
              "    [theme=dark] .colab-df-convert:hover {\n",
              "      background-color: #434B5C;\n",
              "      box-shadow: 0px 1px 3px 1px rgba(0, 0, 0, 0.15);\n",
              "      filter: drop-shadow(0px 1px 2px rgba(0, 0, 0, 0.3));\n",
              "      fill: #FFFFFF;\n",
              "    }\n",
              "  </style>\n",
              "\n",
              "      <script>\n",
              "        const buttonEl =\n",
              "          document.querySelector('#df-ef5c2bb1-3796-4f89-907b-284cba4077d6 button.colab-df-convert');\n",
              "        buttonEl.style.display =\n",
              "          google.colab.kernel.accessAllowed ? 'block' : 'none';\n",
              "\n",
              "        async function convertToInteractive(key) {\n",
              "          const element = document.querySelector('#df-ef5c2bb1-3796-4f89-907b-284cba4077d6');\n",
              "          const dataTable =\n",
              "            await google.colab.kernel.invokeFunction('convertToInteractive',\n",
              "                                                     [key], {});\n",
              "          if (!dataTable) return;\n",
              "\n",
              "          const docLinkHtml = 'Like what you see? Visit the ' +\n",
              "            '<a target=\"_blank\" href=https://colab.research.google.com/notebooks/data_table.ipynb>data table notebook</a>'\n",
              "            + ' to learn more about interactive tables.';\n",
              "          element.innerHTML = '';\n",
              "          dataTable['output_type'] = 'display_data';\n",
              "          await google.colab.output.renderOutput(dataTable, element);\n",
              "          const docLink = document.createElement('div');\n",
              "          docLink.innerHTML = docLinkHtml;\n",
              "          element.appendChild(docLink);\n",
              "        }\n",
              "      </script>\n",
              "    </div>\n",
              "  </div>\n",
              "  "
            ]
          },
          "metadata": {},
          "execution_count": 6
        }
      ]
    },
    {
      "cell_type": "code",
      "source": [
        "df.tail()"
      ],
      "metadata": {
        "colab": {
          "base_uri": "https://localhost:8080/",
          "height": 250
        },
        "id": "4a9mvMsBhBFO",
        "outputId": "8ea661b7-fd79-4c8b-99dc-4492749a510d"
      },
      "execution_count": 7,
      "outputs": [
        {
          "output_type": "execute_result",
          "data": {
            "text/plain": [
              "     symbol                       date   close     high     low     open  \\\n",
              "1254   AAPL  2022-07-25 00:00:00+00:00  152.95  155.040  152.28  154.010   \n",
              "1255   AAPL  2022-07-26 00:00:00+00:00  151.60  153.085  150.80  152.265   \n",
              "1256   AAPL  2022-07-27 00:00:00+00:00  156.79  157.330  152.16  152.580   \n",
              "1257   AAPL  2022-07-28 00:00:00+00:00  157.35  157.640  154.41  156.980   \n",
              "1258   AAPL  2022-07-29 00:00:00+00:00  162.51  163.630  159.50  161.240   \n",
              "\n",
              "         volume  adjClose  adjHigh  adjLow  adjOpen  adjVolume  divCash  \\\n",
              "1254   53623945    152.95  155.040  152.28  154.010   53623945      0.0   \n",
              "1255   55138691    151.60  153.085  150.80  152.265   55138691      0.0   \n",
              "1256   78620688    156.79  157.330  152.16  152.580   78620688      0.0   \n",
              "1257   81378731    157.35  157.640  154.41  156.980   81378731      0.0   \n",
              "1258  101786860    162.51  163.630  159.50  161.240  101786860      0.0   \n",
              "\n",
              "      splitFactor  \n",
              "1254          1.0  \n",
              "1255          1.0  \n",
              "1256          1.0  \n",
              "1257          1.0  \n",
              "1258          1.0  "
            ],
            "text/html": [
              "\n",
              "  <div id=\"df-5a01050f-029b-44f9-925a-46417855bdec\">\n",
              "    <div class=\"colab-df-container\">\n",
              "      <div>\n",
              "<style scoped>\n",
              "    .dataframe tbody tr th:only-of-type {\n",
              "        vertical-align: middle;\n",
              "    }\n",
              "\n",
              "    .dataframe tbody tr th {\n",
              "        vertical-align: top;\n",
              "    }\n",
              "\n",
              "    .dataframe thead th {\n",
              "        text-align: right;\n",
              "    }\n",
              "</style>\n",
              "<table border=\"1\" class=\"dataframe\">\n",
              "  <thead>\n",
              "    <tr style=\"text-align: right;\">\n",
              "      <th></th>\n",
              "      <th>symbol</th>\n",
              "      <th>date</th>\n",
              "      <th>close</th>\n",
              "      <th>high</th>\n",
              "      <th>low</th>\n",
              "      <th>open</th>\n",
              "      <th>volume</th>\n",
              "      <th>adjClose</th>\n",
              "      <th>adjHigh</th>\n",
              "      <th>adjLow</th>\n",
              "      <th>adjOpen</th>\n",
              "      <th>adjVolume</th>\n",
              "      <th>divCash</th>\n",
              "      <th>splitFactor</th>\n",
              "    </tr>\n",
              "  </thead>\n",
              "  <tbody>\n",
              "    <tr>\n",
              "      <th>1254</th>\n",
              "      <td>AAPL</td>\n",
              "      <td>2022-07-25 00:00:00+00:00</td>\n",
              "      <td>152.95</td>\n",
              "      <td>155.040</td>\n",
              "      <td>152.28</td>\n",
              "      <td>154.010</td>\n",
              "      <td>53623945</td>\n",
              "      <td>152.95</td>\n",
              "      <td>155.040</td>\n",
              "      <td>152.28</td>\n",
              "      <td>154.010</td>\n",
              "      <td>53623945</td>\n",
              "      <td>0.0</td>\n",
              "      <td>1.0</td>\n",
              "    </tr>\n",
              "    <tr>\n",
              "      <th>1255</th>\n",
              "      <td>AAPL</td>\n",
              "      <td>2022-07-26 00:00:00+00:00</td>\n",
              "      <td>151.60</td>\n",
              "      <td>153.085</td>\n",
              "      <td>150.80</td>\n",
              "      <td>152.265</td>\n",
              "      <td>55138691</td>\n",
              "      <td>151.60</td>\n",
              "      <td>153.085</td>\n",
              "      <td>150.80</td>\n",
              "      <td>152.265</td>\n",
              "      <td>55138691</td>\n",
              "      <td>0.0</td>\n",
              "      <td>1.0</td>\n",
              "    </tr>\n",
              "    <tr>\n",
              "      <th>1256</th>\n",
              "      <td>AAPL</td>\n",
              "      <td>2022-07-27 00:00:00+00:00</td>\n",
              "      <td>156.79</td>\n",
              "      <td>157.330</td>\n",
              "      <td>152.16</td>\n",
              "      <td>152.580</td>\n",
              "      <td>78620688</td>\n",
              "      <td>156.79</td>\n",
              "      <td>157.330</td>\n",
              "      <td>152.16</td>\n",
              "      <td>152.580</td>\n",
              "      <td>78620688</td>\n",
              "      <td>0.0</td>\n",
              "      <td>1.0</td>\n",
              "    </tr>\n",
              "    <tr>\n",
              "      <th>1257</th>\n",
              "      <td>AAPL</td>\n",
              "      <td>2022-07-28 00:00:00+00:00</td>\n",
              "      <td>157.35</td>\n",
              "      <td>157.640</td>\n",
              "      <td>154.41</td>\n",
              "      <td>156.980</td>\n",
              "      <td>81378731</td>\n",
              "      <td>157.35</td>\n",
              "      <td>157.640</td>\n",
              "      <td>154.41</td>\n",
              "      <td>156.980</td>\n",
              "      <td>81378731</td>\n",
              "      <td>0.0</td>\n",
              "      <td>1.0</td>\n",
              "    </tr>\n",
              "    <tr>\n",
              "      <th>1258</th>\n",
              "      <td>AAPL</td>\n",
              "      <td>2022-07-29 00:00:00+00:00</td>\n",
              "      <td>162.51</td>\n",
              "      <td>163.630</td>\n",
              "      <td>159.50</td>\n",
              "      <td>161.240</td>\n",
              "      <td>101786860</td>\n",
              "      <td>162.51</td>\n",
              "      <td>163.630</td>\n",
              "      <td>159.50</td>\n",
              "      <td>161.240</td>\n",
              "      <td>101786860</td>\n",
              "      <td>0.0</td>\n",
              "      <td>1.0</td>\n",
              "    </tr>\n",
              "  </tbody>\n",
              "</table>\n",
              "</div>\n",
              "      <button class=\"colab-df-convert\" onclick=\"convertToInteractive('df-5a01050f-029b-44f9-925a-46417855bdec')\"\n",
              "              title=\"Convert this dataframe to an interactive table.\"\n",
              "              style=\"display:none;\">\n",
              "        \n",
              "  <svg xmlns=\"http://www.w3.org/2000/svg\" height=\"24px\"viewBox=\"0 0 24 24\"\n",
              "       width=\"24px\">\n",
              "    <path d=\"M0 0h24v24H0V0z\" fill=\"none\"/>\n",
              "    <path d=\"M18.56 5.44l.94 2.06.94-2.06 2.06-.94-2.06-.94-.94-2.06-.94 2.06-2.06.94zm-11 1L8.5 8.5l.94-2.06 2.06-.94-2.06-.94L8.5 2.5l-.94 2.06-2.06.94zm10 10l.94 2.06.94-2.06 2.06-.94-2.06-.94-.94-2.06-.94 2.06-2.06.94z\"/><path d=\"M17.41 7.96l-1.37-1.37c-.4-.4-.92-.59-1.43-.59-.52 0-1.04.2-1.43.59L10.3 9.45l-7.72 7.72c-.78.78-.78 2.05 0 2.83L4 21.41c.39.39.9.59 1.41.59.51 0 1.02-.2 1.41-.59l7.78-7.78 2.81-2.81c.8-.78.8-2.07 0-2.86zM5.41 20L4 18.59l7.72-7.72 1.47 1.35L5.41 20z\"/>\n",
              "  </svg>\n",
              "      </button>\n",
              "      \n",
              "  <style>\n",
              "    .colab-df-container {\n",
              "      display:flex;\n",
              "      flex-wrap:wrap;\n",
              "      gap: 12px;\n",
              "    }\n",
              "\n",
              "    .colab-df-convert {\n",
              "      background-color: #E8F0FE;\n",
              "      border: none;\n",
              "      border-radius: 50%;\n",
              "      cursor: pointer;\n",
              "      display: none;\n",
              "      fill: #1967D2;\n",
              "      height: 32px;\n",
              "      padding: 0 0 0 0;\n",
              "      width: 32px;\n",
              "    }\n",
              "\n",
              "    .colab-df-convert:hover {\n",
              "      background-color: #E2EBFA;\n",
              "      box-shadow: 0px 1px 2px rgba(60, 64, 67, 0.3), 0px 1px 3px 1px rgba(60, 64, 67, 0.15);\n",
              "      fill: #174EA6;\n",
              "    }\n",
              "\n",
              "    [theme=dark] .colab-df-convert {\n",
              "      background-color: #3B4455;\n",
              "      fill: #D2E3FC;\n",
              "    }\n",
              "\n",
              "    [theme=dark] .colab-df-convert:hover {\n",
              "      background-color: #434B5C;\n",
              "      box-shadow: 0px 1px 3px 1px rgba(0, 0, 0, 0.15);\n",
              "      filter: drop-shadow(0px 1px 2px rgba(0, 0, 0, 0.3));\n",
              "      fill: #FFFFFF;\n",
              "    }\n",
              "  </style>\n",
              "\n",
              "      <script>\n",
              "        const buttonEl =\n",
              "          document.querySelector('#df-5a01050f-029b-44f9-925a-46417855bdec button.colab-df-convert');\n",
              "        buttonEl.style.display =\n",
              "          google.colab.kernel.accessAllowed ? 'block' : 'none';\n",
              "\n",
              "        async function convertToInteractive(key) {\n",
              "          const element = document.querySelector('#df-5a01050f-029b-44f9-925a-46417855bdec');\n",
              "          const dataTable =\n",
              "            await google.colab.kernel.invokeFunction('convertToInteractive',\n",
              "                                                     [key], {});\n",
              "          if (!dataTable) return;\n",
              "\n",
              "          const docLinkHtml = 'Like what you see? Visit the ' +\n",
              "            '<a target=\"_blank\" href=https://colab.research.google.com/notebooks/data_table.ipynb>data table notebook</a>'\n",
              "            + ' to learn more about interactive tables.';\n",
              "          element.innerHTML = '';\n",
              "          dataTable['output_type'] = 'display_data';\n",
              "          await google.colab.output.renderOutput(dataTable, element);\n",
              "          const docLink = document.createElement('div');\n",
              "          docLink.innerHTML = docLinkHtml;\n",
              "          element.appendChild(docLink);\n",
              "        }\n",
              "      </script>\n",
              "    </div>\n",
              "  </div>\n",
              "  "
            ]
          },
          "metadata": {},
          "execution_count": 7
        }
      ]
    },
    {
      "cell_type": "code",
      "source": [
        "df1=df.reset_index()['close']\n",
        "df1"
      ],
      "metadata": {
        "colab": {
          "base_uri": "https://localhost:8080/"
        },
        "id": "-NQKi_ANhGZf",
        "outputId": "44c93d32-f497-4925-a339-2ca323aefa3a"
      },
      "execution_count": 8,
      "outputs": [
        {
          "output_type": "execute_result",
          "data": {
            "text/plain": [
              "0       148.73\n",
              "1       150.05\n",
              "2       157.14\n",
              "3       155.57\n",
              "4       156.39\n",
              "         ...  \n",
              "1254    152.95\n",
              "1255    151.60\n",
              "1256    156.79\n",
              "1257    157.35\n",
              "1258    162.51\n",
              "Name: close, Length: 1259, dtype: float64"
            ]
          },
          "metadata": {},
          "execution_count": 8
        }
      ]
    },
    {
      "cell_type": "code",
      "source": [
        "import matplotlib.pyplot as plt\n",
        "plt.plot(df1)"
      ],
      "metadata": {
        "colab": {
          "base_uri": "https://localhost:8080/",
          "height": 282
        },
        "id": "dhJdS54WhKns",
        "outputId": "eba60bb0-b6d3-452b-9304-b532ae51b2f5"
      },
      "execution_count": 9,
      "outputs": [
        {
          "output_type": "execute_result",
          "data": {
            "text/plain": [
              "[<matplotlib.lines.Line2D at 0x7fe616a95390>]"
            ]
          },
          "metadata": {},
          "execution_count": 9
        },
        {
          "output_type": "display_data",
          "data": {
            "text/plain": [
              "<Figure size 432x288 with 1 Axes>"
            ],
            "image/png": "[encoded data removed]"
          },
          "metadata": {
            "needs_background": "light"
          }
        }
      ]
    },
    {
      "cell_type": "code",
      "source": [
        "import numpy as np"
      ],
      "metadata": {
        "id": "_oLjl5dNhRff"
      },
      "execution_count": 10,
      "outputs": []
    },
    {
      "cell_type": "code",
      "source": [
        "from sklearn.preprocessing import MinMaxScaler\n",
        "scaler=MinMaxScaler(feature_range=(0,1))\n",
        "df1=scaler.fit_transform(np.array(df1).reshape(-1,1))"
      ],
      "metadata": {
        "id": "C-ewUCHdiaDM"
      },
      "execution_count": 11,
      "outputs": []
    },
    {
      "cell_type": "code",
      "source": [
        "print(df1)"
      ],
      "metadata": {
        "colab": {
          "base_uri": "https://localhost:8080/"
        },
        "id": "X7mA-I_iicax",
        "outputId": "6265bf71-3da6-4dd2-e5c5-98db2c7c00e0"
      },
      "execution_count": 12,
      "outputs": [
        {
          "output_type": "stream",
          "name": "stdout",
          "text": [
            "[[0.10492173]\n",
            " [0.10822793]\n",
            " [0.12598622]\n",
            " ...\n",
            " [0.12510958]\n",
            " [0.12651221]\n",
            " [0.13943644]]\n"
          ]
        }
      ]
    },
    {
      "cell_type": "markdown",
      "source": [
        "## Splitting the dataset"
      ],
      "metadata": {
        "id": "Q3TJgimzEjgJ"
      }
    },
    {
      "cell_type": "code",
      "source": [
        "training_size=int(len(df1)*0.65)\n",
        "test_size=len(df1)-training_size\n",
        "train_data,test_data=df1[0:training_size,:],df1[training_size:len(df1),:1]"
      ],
      "metadata": {
        "id": "cMeOcccvio8H"
      },
      "execution_count": 13,
      "outputs": []
    },
    {
      "cell_type": "code",
      "source": [
        "training_size, test_size"
      ],
      "metadata": {
        "colab": {
          "base_uri": "https://localhost:8080/"
        },
        "id": "FV29B66cisUh",
        "outputId": "d89dac05-05e2-4b32-af5f-4570c04e95f5"
      },
      "execution_count": 14,
      "outputs": [
        {
          "output_type": "execute_result",
          "data": {
            "text/plain": [
              "(818, 441)"
            ]
          },
          "metadata": {},
          "execution_count": 14
        }
      ]
    },
    {
      "cell_type": "markdown",
      "source": [
        "## Convert an array of values into a dataset matrix"
      ],
      "metadata": {
        "id": "eI6bLxDcEnWq"
      }
    },
    {
      "cell_type": "code",
      "source": [
        "def create_dataset(dataset, time_step=1):\n",
        "\tdataX, dataY = [], []\n",
        "\tfor i in range(len(dataset)-time_step-1):\n",
        "\t\ta = dataset[i:(i+time_step), 0] \n",
        "\t\tdataX.append(a)\n",
        "\t\tdataY.append(dataset[i + time_step, 0])\n",
        "\treturn np.array(dataX), np.array(dataY)"
      ],
      "metadata": {
        "id": "QYUoeszQjBgX"
      },
      "execution_count": 15,
      "outputs": []
    },
    {
      "cell_type": "code",
      "source": [
        "# reshape into X=t,t+1,t+2,t+3 and Y=t+4\n",
        "time_step = 100\n",
        "X_train, y_train = create_dataset(train_data, time_step)\n",
        "X_test, ytest = create_dataset(test_data, time_step)"
      ],
      "metadata": {
        "id": "AXW7JiwPjSIX"
      },
      "execution_count": 16,
      "outputs": []
    },
    {
      "cell_type": "code",
      "source": [
        "print(X_train.shape), print(y_train.shape)"
      ],
      "metadata": {
        "colab": {
          "base_uri": "https://localhost:8080/"
        },
        "id": "o1_rha3WjZwe",
        "outputId": "dd3cb6ee-9bc9-48e7-d965-cee271c432a5"
      },
      "execution_count": 17,
      "outputs": [
        {
          "output_type": "stream",
          "name": "stdout",
          "text": [
            "(717, 100)\n",
            "(717,)\n"
          ]
        },
        {
          "output_type": "execute_result",
          "data": {
            "text/plain": [
              "(None, None)"
            ]
          },
          "metadata": {},
          "execution_count": 17
        }
      ]
    },
    {
      "cell_type": "code",
      "source": [
        "print(X_test.shape), print(ytest.shape)"
      ],
      "metadata": {
        "colab": {
          "base_uri": "https://localhost:8080/"
        },
        "id": "v2wK10fIjdLm",
        "outputId": "3f933eba-b587-4f1b-d4a2-f37312b8262f"
      },
      "execution_count": 18,
      "outputs": [
        {
          "output_type": "stream",
          "name": "stdout",
          "text": [
            "(340, 100)\n",
            "(340,)\n"
          ]
        },
        {
          "output_type": "execute_result",
          "data": {
            "text/plain": [
              "(None, None)"
            ]
          },
          "metadata": {},
          "execution_count": 18
        }
      ]
    },
    {
      "cell_type": "code",
      "source": [
        "# reshape input to be [samples, time steps, features] which is required for LSTM\n",
        "X_train = X_train.reshape(X_train.shape[0],X_train.shape[1] , 1)\n",
        "X_test = X_test.reshape(X_test.shape[0],X_test.shape[1] , 1)"
      ],
      "metadata": {
        "id": "y90iRrKEjhTl"
      },
      "execution_count": 19,
      "outputs": []
    },
    {
      "cell_type": "markdown",
      "source": [
        "## Creating stacked LSTM model"
      ],
      "metadata": {
        "id": "2p3DArwXEyYO"
      }
    },
    {
      "cell_type": "code",
      "source": [
        "from tensorflow.keras.models import Sequential\n",
        "from tensorflow.keras.layers import Dense\n",
        "from tensorflow.keras.layers import LSTM"
      ],
      "metadata": {
        "id": "hhtrQ0PLjpSH"
      },
      "execution_count": 20,
      "outputs": []
    },
    {
      "cell_type": "code",
      "source": [
        "model=Sequential()\n",
        "model.add(LSTM(50,return_sequences=True,input_shape=(100,1)))\n",
        "model.add(LSTM(50,return_sequences=True))\n",
        "model.add(LSTM(50))\n",
        "model.add(Dense(1))\n",
        "model.compile(loss='mean_squared_error',optimizer='adam')"
      ],
      "metadata": {
        "id": "qphdc-FhjrPV"
      },
      "execution_count": 21,
      "outputs": []
    },
    {
      "cell_type": "code",
      "source": [
        "model.summary()"
      ],
      "metadata": {
        "colab": {
          "base_uri": "https://localhost:8080/"
        },
        "id": "oSodOuBIjvDU",
        "outputId": "b058a311-a0ac-4798-e79c-66046f4f52dd"
      },
      "execution_count": 22,
      "outputs": [
        {
          "output_type": "stream",
          "name": "stdout",
          "text": [
            "Model: \"sequential\"\n",
            "_________________________________________________________________\n",
            " Layer (type)                Output Shape              Param #   \n",
            "=================================================================\n",
            " lstm (LSTM)                 (None, 100, 50)           10400     \n",
            "                                                                 \n",
            " lstm_1 (LSTM)               (None, 100, 50)           20200     \n",
            "                                                                 \n",
            " lstm_2 (LSTM)               (None, 50)                20200     \n",
            "                                                                 \n",
            " dense (Dense)               (None, 1)                 51        \n",
            "                                                                 \n",
            "=================================================================\n",
            "Total params: 50,851\n",
            "Trainable params: 50,851\n",
            "Non-trainable params: 0\n",
            "_________________________________________________________________\n"
          ]
        }
      ]
    },
    {
      "cell_type": "code",
      "source": [
        "model.fit(X_train,y_train,validation_data=(X_test,ytest),epochs=100,batch_size=64,verbose=1)"
      ],
      "metadata": {
        "colab": {
          "base_uri": "https://localhost:8080/"
        },
        "id": "YIkhXDnpjyrA",
        "outputId": "8cadad84-1098-4bfb-e091-aa545ab641fe"
      },
      "execution_count": 23,
      "outputs": [
        {
          "output_type": "stream",
          "name": "stdout",
          "text": [
            "Epoch 1/100\n",
            "12/12 [==============================] - 20s 677ms/step - loss: 0.0497 - val_loss: 0.0041\n",
            "Epoch 2/100\n",
            "12/12 [==============================] - 4s 332ms/step - loss: 0.0150 - val_loss: 0.0090\n",
            "Epoch 3/100\n",
            "12/12 [==============================] - 3s 273ms/step - loss: 0.0123 - val_loss: 6.3955e-04\n",
            "Epoch 4/100\n",
            "12/12 [==============================] - 2s 197ms/step - loss: 0.0101 - val_loss: 2.9921e-04\n",
            "Epoch 5/100\n",
            "12/12 [==============================] - 2s 196ms/step - loss: 0.0093 - val_loss: 2.7080e-04\n",
            "Epoch 6/100\n",
            "12/12 [==============================] - 2s 196ms/step - loss: 0.0083 - val_loss: 5.9109e-04\n",
            "Epoch 7/100\n",
            "12/12 [==============================] - 2s 194ms/step - loss: 0.0070 - val_loss: 2.3738e-04\n",
            "Epoch 8/100\n",
            "12/12 [==============================] - 2s 192ms/step - loss: 0.0070 - val_loss: 2.2390e-04\n",
            "Epoch 9/100\n",
            "12/12 [==============================] - 2s 207ms/step - loss: 0.0076 - val_loss: 0.0015\n",
            "Epoch 10/100\n",
            "12/12 [==============================] - 2s 200ms/step - loss: 0.0066 - val_loss: 8.7403e-04\n",
            "Epoch 11/100\n",
            "12/12 [==============================] - 3s 220ms/step - loss: 0.0061 - val_loss: 3.3394e-04\n",
            "Epoch 12/100\n",
            "12/12 [==============================] - 3s 217ms/step - loss: 0.0049 - val_loss: 4.8927e-04\n",
            "Epoch 13/100\n",
            "12/12 [==============================] - 2s 203ms/step - loss: 0.0044 - val_loss: 4.0811e-04\n",
            "Epoch 14/100\n",
            "12/12 [==============================] - 2s 205ms/step - loss: 0.0036 - val_loss: 5.0212e-04\n",
            "Epoch 15/100\n",
            "12/12 [==============================] - 3s 243ms/step - loss: 0.0037 - val_loss: 8.9976e-04\n",
            "Epoch 16/100\n",
            "12/12 [==============================] - 3s 272ms/step - loss: 0.0034 - val_loss: 4.0926e-04\n",
            "Epoch 17/100\n",
            "12/12 [==============================] - 2s 204ms/step - loss: 0.0048 - val_loss: 4.2521e-04\n",
            "Epoch 18/100\n",
            "12/12 [==============================] - 2s 205ms/step - loss: 0.0032 - val_loss: 2.5772e-04\n",
            "Epoch 19/100\n",
            "12/12 [==============================] - 2s 196ms/step - loss: 0.0028 - val_loss: 2.9622e-04\n",
            "Epoch 20/100\n",
            "12/12 [==============================] - 2s 196ms/step - loss: 0.0027 - val_loss: 2.2479e-04\n",
            "Epoch 21/100\n",
            "12/12 [==============================] - 2s 197ms/step - loss: 0.0031 - val_loss: 3.0498e-04\n",
            "Epoch 22/100\n",
            "12/12 [==============================] - 2s 201ms/step - loss: 0.0023 - val_loss: 3.1975e-04\n",
            "Epoch 23/100\n",
            "12/12 [==============================] - 2s 196ms/step - loss: 0.0019 - val_loss: 2.8993e-04\n",
            "Epoch 24/100\n",
            "12/12 [==============================] - 2s 197ms/step - loss: 0.0031 - val_loss: 3.2204e-04\n",
            "Epoch 25/100\n",
            "12/12 [==============================] - 2s 196ms/step - loss: 0.0031 - val_loss: 2.0284e-04\n",
            "Epoch 26/100\n",
            "12/12 [==============================] - 2s 198ms/step - loss: 0.0026 - val_loss: 3.3900e-04\n",
            "Epoch 27/100\n",
            "12/12 [==============================] - 2s 197ms/step - loss: 0.0023 - val_loss: 2.4981e-04\n",
            "Epoch 28/100\n",
            "12/12 [==============================] - 2s 195ms/step - loss: 0.0021 - val_loss: 3.4234e-04\n",
            "Epoch 29/100\n",
            "12/12 [==============================] - 2s 198ms/step - loss: 0.0022 - val_loss: 2.1750e-04\n",
            "Epoch 30/100\n",
            "12/12 [==============================] - 2s 200ms/step - loss: 0.0020 - val_loss: 2.1658e-04\n",
            "Epoch 31/100\n",
            "12/12 [==============================] - 2s 196ms/step - loss: 0.0017 - val_loss: 2.3335e-04\n",
            "Epoch 32/100\n",
            "12/12 [==============================] - 2s 196ms/step - loss: 0.0020 - val_loss: 2.1426e-04\n",
            "Epoch 33/100\n",
            "12/12 [==============================] - 3s 213ms/step - loss: 0.0017 - val_loss: 2.0867e-04\n",
            "Epoch 34/100\n",
            "12/12 [==============================] - 3s 213ms/step - loss: 0.0020 - val_loss: 2.0562e-04\n",
            "Epoch 35/100\n",
            "12/12 [==============================] - 2s 196ms/step - loss: 0.0021 - val_loss: 3.3673e-04\n",
            "Epoch 36/100\n",
            "12/12 [==============================] - 2s 198ms/step - loss: 0.0019 - val_loss: 2.7432e-04\n",
            "Epoch 37/100\n",
            "12/12 [==============================] - 2s 195ms/step - loss: 0.0025 - val_loss: 6.1769e-04\n",
            "Epoch 38/100\n",
            "12/12 [==============================] - 2s 195ms/step - loss: 0.0022 - val_loss: 2.9631e-04\n",
            "Epoch 39/100\n",
            "12/12 [==============================] - 2s 207ms/step - loss: 0.0020 - val_loss: 4.5521e-04\n",
            "Epoch 40/100\n",
            "12/12 [==============================] - 3s 217ms/step - loss: 0.0017 - val_loss: 2.4479e-04\n",
            "Epoch 41/100\n",
            "12/12 [==============================] - 3s 212ms/step - loss: 0.0020 - val_loss: 2.4216e-04\n",
            "Epoch 42/100\n",
            "12/12 [==============================] - 3s 218ms/step - loss: 0.0021 - val_loss: 3.7195e-04\n",
            "Epoch 43/100\n",
            "12/12 [==============================] - 4s 314ms/step - loss: 0.0037 - val_loss: 0.0015\n",
            "Epoch 44/100\n",
            "12/12 [==============================] - 3s 201ms/step - loss: 0.0040 - val_loss: 5.8591e-04\n",
            "Epoch 45/100\n",
            "12/12 [==============================] - 2s 199ms/step - loss: 0.0020 - val_loss: 2.2227e-04\n",
            "Epoch 46/100\n",
            "12/12 [==============================] - 2s 198ms/step - loss: 0.0019 - val_loss: 2.5934e-04\n",
            "Epoch 47/100\n",
            "12/12 [==============================] - 2s 198ms/step - loss: 0.0032 - val_loss: 5.6334e-04\n",
            "Epoch 48/100\n",
            "12/12 [==============================] - 2s 199ms/step - loss: 0.0020 - val_loss: 6.1774e-04\n",
            "Epoch 49/100\n",
            "12/12 [==============================] - 2s 196ms/step - loss: 0.0019 - val_loss: 3.5890e-04\n",
            "Epoch 50/100\n",
            "12/12 [==============================] - 2s 201ms/step - loss: 0.0015 - val_loss: 2.4176e-04\n",
            "Epoch 51/100\n",
            "12/12 [==============================] - 2s 206ms/step - loss: 0.0014 - val_loss: 3.0261e-04\n",
            "Epoch 52/100\n",
            "12/12 [==============================] - 2s 202ms/step - loss: 0.0015 - val_loss: 2.0848e-04\n",
            "Epoch 53/100\n",
            "12/12 [==============================] - 2s 197ms/step - loss: 0.0014 - val_loss: 3.4132e-04\n",
            "Epoch 54/100\n",
            "12/12 [==============================] - 2s 204ms/step - loss: 0.0016 - val_loss: 2.5499e-04\n",
            "Epoch 55/100\n",
            "12/12 [==============================] - 3s 289ms/step - loss: 0.0018 - val_loss: 2.0483e-04\n",
            "Epoch 56/100\n",
            "12/12 [==============================] - 3s 216ms/step - loss: 0.0015 - val_loss: 6.2872e-04\n",
            "Epoch 57/100\n",
            "12/12 [==============================] - 2s 197ms/step - loss: 0.0090 - val_loss: 6.8138e-04\n",
            "Epoch 58/100\n",
            "12/12 [==============================] - 2s 201ms/step - loss: 0.0057 - val_loss: 0.0010\n",
            "Epoch 59/100\n",
            "12/12 [==============================] - 2s 197ms/step - loss: 0.0052 - val_loss: 2.1970e-04\n",
            "Epoch 60/100\n",
            "12/12 [==============================] - 2s 201ms/step - loss: 0.0029 - val_loss: 0.0012\n",
            "Epoch 61/100\n",
            "12/12 [==============================] - 2s 208ms/step - loss: 0.0021 - val_loss: 2.3056e-04\n",
            "Epoch 62/100\n",
            "12/12 [==============================] - 2s 197ms/step - loss: 0.0016 - val_loss: 2.0844e-04\n",
            "Epoch 63/100\n",
            "12/12 [==============================] - 2s 197ms/step - loss: 0.0016 - val_loss: 2.1461e-04\n",
            "Epoch 64/100\n",
            "12/12 [==============================] - 2s 198ms/step - loss: 0.0017 - val_loss: 2.0189e-04\n",
            "Epoch 65/100\n",
            "12/12 [==============================] - 2s 197ms/step - loss: 0.0016 - val_loss: 2.0879e-04\n",
            "Epoch 66/100\n",
            "12/12 [==============================] - 2s 201ms/step - loss: 0.0017 - val_loss: 2.1134e-04\n",
            "Epoch 67/100\n",
            "12/12 [==============================] - 3s 218ms/step - loss: 0.0030 - val_loss: 7.1680e-04\n",
            "Epoch 68/100\n",
            "12/12 [==============================] - 2s 198ms/step - loss: 0.0034 - val_loss: 3.4838e-04\n",
            "Epoch 69/100\n",
            "12/12 [==============================] - 2s 197ms/step - loss: 0.0024 - val_loss: 2.1289e-04\n",
            "Epoch 70/100\n",
            "12/12 [==============================] - 3s 213ms/step - loss: 0.0027 - val_loss: 3.5981e-04\n",
            "Epoch 71/100\n",
            "12/12 [==============================] - 2s 200ms/step - loss: 0.0024 - val_loss: 3.1769e-04\n",
            "Epoch 72/100\n",
            "12/12 [==============================] - 2s 198ms/step - loss: 0.0020 - val_loss: 2.7905e-04\n",
            "Epoch 73/100\n",
            "12/12 [==============================] - 2s 196ms/step - loss: 0.0020 - val_loss: 2.4257e-04\n",
            "Epoch 74/100\n",
            "12/12 [==============================] - 3s 214ms/step - loss: 0.0033 - val_loss: 3.4870e-04\n",
            "Epoch 75/100\n",
            "12/12 [==============================] - 2s 198ms/step - loss: 0.0018 - val_loss: 3.6336e-04\n",
            "Epoch 76/100\n",
            "12/12 [==============================] - 2s 198ms/step - loss: 0.0015 - val_loss: 5.2169e-04\n",
            "Epoch 77/100\n",
            "12/12 [==============================] - 2s 198ms/step - loss: 0.0016 - val_loss: 2.1437e-04\n",
            "Epoch 78/100\n",
            "12/12 [==============================] - 2s 197ms/step - loss: 0.0017 - val_loss: 3.4302e-04\n",
            "Epoch 79/100\n",
            "12/12 [==============================] - 2s 203ms/step - loss: 0.0016 - val_loss: 1.9851e-04\n",
            "Epoch 80/100\n",
            "12/12 [==============================] - 3s 215ms/step - loss: 0.0013 - val_loss: 3.1096e-04\n",
            "Epoch 81/100\n",
            "12/12 [==============================] - 2s 197ms/step - loss: 0.0013 - val_loss: 2.8659e-04\n",
            "Epoch 82/100\n",
            "12/12 [==============================] - 2s 204ms/step - loss: 0.0011 - val_loss: 2.2939e-04\n",
            "Epoch 83/100\n",
            "12/12 [==============================] - 3s 224ms/step - loss: 0.0011 - val_loss: 2.8939e-04\n",
            "Epoch 84/100\n",
            "12/12 [==============================] - 3s 214ms/step - loss: 0.0012 - val_loss: 4.7076e-04\n",
            "Epoch 85/100\n",
            "12/12 [==============================] - 2s 204ms/step - loss: 0.0011 - val_loss: 3.3454e-04\n",
            "Epoch 86/100\n",
            "12/12 [==============================] - 2s 202ms/step - loss: 0.0011 - val_loss: 2.7053e-04\n",
            "Epoch 87/100\n",
            "12/12 [==============================] - 3s 217ms/step - loss: 0.0012 - val_loss: 3.1641e-04\n",
            "Epoch 88/100\n",
            "12/12 [==============================] - 2s 197ms/step - loss: 0.0015 - val_loss: 5.3073e-04\n",
            "Epoch 89/100\n",
            "12/12 [==============================] - 2s 196ms/step - loss: 0.0011 - val_loss: 2.6231e-04\n",
            "Epoch 90/100\n",
            "12/12 [==============================] - 2s 197ms/step - loss: 0.0010 - val_loss: 3.6352e-04\n",
            "Epoch 91/100\n",
            "12/12 [==============================] - 2s 201ms/step - loss: 0.0017 - val_loss: 3.6865e-04\n",
            "Epoch 92/100\n",
            "12/12 [==============================] - 2s 199ms/step - loss: 0.0012 - val_loss: 1.9074e-04\n",
            "Epoch 93/100\n",
            "12/12 [==============================] - 2s 210ms/step - loss: 0.0012 - val_loss: 2.3890e-04\n",
            "Epoch 94/100\n",
            "12/12 [==============================] - 3s 252ms/step - loss: 0.0016 - val_loss: 2.7184e-04\n",
            "Epoch 95/100\n",
            "12/12 [==============================] - 3s 225ms/step - loss: 0.0022 - val_loss: 4.3368e-04\n",
            "Epoch 96/100\n",
            "12/12 [==============================] - 2s 198ms/step - loss: 0.0020 - val_loss: 1.9452e-04\n",
            "Epoch 97/100\n",
            "12/12 [==============================] - 2s 200ms/step - loss: 0.0016 - val_loss: 1.9042e-04\n",
            "Epoch 98/100\n",
            "12/12 [==============================] - 2s 198ms/step - loss: 0.0014 - val_loss: 4.0164e-04\n",
            "Epoch 99/100\n",
            "12/12 [==============================] - 3s 212ms/step - loss: 0.0012 - val_loss: 2.2313e-04\n",
            "Epoch 100/100\n",
            "12/12 [==============================] - 2s 198ms/step - loss: 0.0012 - val_loss: 1.9623e-04\n"
          ]
        },
        {
          "output_type": "execute_result",
          "data": {
            "text/plain": [
              "<keras.callbacks.History at 0x7fe5a68ed710>"
            ]
          },
          "metadata": {},
          "execution_count": 23
        }
      ]
    },
    {
      "cell_type": "code",
      "source": [
        "import tensorflow as tf"
      ],
      "metadata": {
        "id": "DGbFDIlrj3yA"
      },
      "execution_count": 24,
      "outputs": []
    },
    {
      "cell_type": "markdown",
      "source": [
        "## Prediction"
      ],
      "metadata": {
        "id": "ZZj1BPhQE309"
      }
    },
    {
      "cell_type": "code",
      "source": [
        "train_predict = model.predict(X_train)\n",
        "test_predict = model.predict(X_test)"
      ],
      "metadata": {
        "id": "6spnrBsqmdmN"
      },
      "execution_count": 25,
      "outputs": []
    },
    {
      "cell_type": "code",
      "source": [
        "print(X_train.shape)"
      ],
      "metadata": {
        "colab": {
          "base_uri": "https://localhost:8080/"
        },
        "id": "1cSv7bac_RpG",
        "outputId": "99b3a507-f0e2-47bc-e38b-948dcf12d358"
      },
      "execution_count": 26,
      "outputs": [
        {
          "output_type": "stream",
          "name": "stdout",
          "text": [
            "(717, 100, 1)\n"
          ]
        }
      ]
    },
    {
      "cell_type": "code",
      "source": [
        "print(train_predict.shape)"
      ],
      "metadata": {
        "colab": {
          "base_uri": "https://localhost:8080/"
        },
        "id": "h8vcoESH_X8l",
        "outputId": "83e47ccf-25ed-4907-c6d1-ef41f217a777"
      },
      "execution_count": 27,
      "outputs": [
        {
          "output_type": "stream",
          "name": "stdout",
          "text": [
            "(717, 1)\n"
          ]
        }
      ]
    },
    {
      "cell_type": "markdown",
      "source": [
        "## Tranform back to original form**"
      ],
      "metadata": {
        "id": "PgoKl7Te_xh6"
      }
    },
    {
      "cell_type": "code",
      "source": [
        "train_predict=scaler.inverse_transform(train_predict)\n",
        "test_predict=scaler.inverse_transform(test_predict)"
      ],
      "metadata": {
        "id": "GlMHoKWbmjm6"
      },
      "execution_count": 28,
      "outputs": []
    },
    {
      "cell_type": "code",
      "source": [
        "print(ytest.shape)"
      ],
      "metadata": {
        "colab": {
          "base_uri": "https://localhost:8080/"
        },
        "id": "nNLGtzYhA-92",
        "outputId": "63705446-9d4b-400e-c219-77336aa56b8f"
      },
      "execution_count": 29,
      "outputs": [
        {
          "output_type": "stream",
          "name": "stdout",
          "text": [
            "(340,)\n"
          ]
        }
      ]
    },
    {
      "cell_type": "code",
      "source": [
        "ytest=ytest.reshape(340,1)\n",
        "ytest=scaler.inverse_transform(ytest)"
      ],
      "metadata": {
        "id": "tzM3s0ihA0S6"
      },
      "execution_count": 30,
      "outputs": []
    },
    {
      "cell_type": "markdown",
      "source": [
        "## RMSE performance Metrics"
      ],
      "metadata": {
        "id": "l27NxnJu_3bE"
      }
    },
    {
      "cell_type": "code",
      "source": [
        "import math\n",
        "from sklearn.metrics import mean_squared_error\n",
        "math.sqrt(mean_squared_error(y_train,train_predict))"
      ],
      "metadata": {
        "colab": {
          "base_uri": "https://localhost:8080/"
        },
        "id": "8FCXyJw5mqM9",
        "outputId": "20f02d7a-654b-46c6-9175-d553e2af37a5"
      },
      "execution_count": 31,
      "outputs": [
        {
          "output_type": "execute_result",
          "data": {
            "text/plain": [
              "232.97142564664347"
            ]
          },
          "metadata": {},
          "execution_count": 31
        }
      ]
    },
    {
      "cell_type": "code",
      "source": [
        "math.sqrt(mean_squared_error(ytest,test_predict))"
      ],
      "metadata": {
        "colab": {
          "base_uri": "https://localhost:8080/"
        },
        "id": "0MsMIXavmtVt",
        "outputId": "11ac8106-15d4-4715-c562-e82823ce0379"
      },
      "execution_count": 32,
      "outputs": [
        {
          "output_type": "execute_result",
          "data": {
            "text/plain": [
              "5.592799685183432"
            ]
          },
          "metadata": {},
          "execution_count": 32
        }
      ]
    },
    {
      "cell_type": "markdown",
      "source": [
        "## Plotting"
      ],
      "metadata": {
        "id": "vAtDC5ZAE63X"
      }
    },
    {
      "cell_type": "code",
      "source": [
        "look_back=100\n",
        "trainPredictPlot = np.empty_like(df1)\n",
        "trainPredictPlot[:, :] = np.nan\n",
        "trainPredictPlot[look_back:len(train_predict)+look_back, :] = train_predict\n",
        "\n",
        "# shift test predictions for plotting\n",
        "testPredictPlot = np.empty_like(df1)\n",
        "testPredictPlot[:, :] = np.nan\n",
        "testPredictPlot[len(train_predict)+(look_back*2)+1:len(df1)-1, :] = test_predict\n",
        "\n",
        "# plot baseline and predictions\n",
        "plt.plot(scaler.inverse_transform(df1), label=\"Original Stock\")\n",
        "plt.plot(trainPredictPlot, label=\"Train Predict\")\n",
        "plt.plot(testPredictPlot, label = \"Test Predict\")\n",
        "\n",
        "plt.title('Stock Closing Price Prediction')\n",
        "plt.xlabel('Time')\n",
        "plt.ylabel('Price')\n",
        "\n",
        "plt.legend()\n",
        "\n",
        "plt.show()"
      ],
      "metadata": {
        "colab": {
          "base_uri": "https://localhost:8080/",
          "height": 295
        },
        "id": "rs5GlWzsm5L_",
        "outputId": "304a3465-8ecf-4a89-9aaa-3c32065e2fec"
      },
      "execution_count": 33,
      "outputs": [
        {
          "output_type": "display_data",
          "data": {
            "text/plain": [
              "<Figure size 432x288 with 1 Axes>"
            ],
            "image/png": "[encoded data removed]"
          },
          "metadata": {
            "needs_background": "light"
          }
        }
      ]
    },
    {
      "cell_type": "code",
      "source": [
        "len(test_data)"
      ],
      "metadata": {
        "colab": {
          "base_uri": "https://localhost:8080/"
        },
        "id": "XlmzC1nznHVq",
        "outputId": "bd2579ba-03f0-4d51-d924-21fe487f9071"
      },
      "execution_count": 34,
      "outputs": [
        {
          "output_type": "execute_result",
          "data": {
            "text/plain": [
              "441"
            ]
          },
          "metadata": {},
          "execution_count": 34
        }
      ]
    },
    {
      "cell_type": "code",
      "source": [
        "x_input=test_data[341:].reshape(1,-1)\n",
        "x_input.shape"
      ],
      "metadata": {
        "colab": {
          "base_uri": "https://localhost:8080/"
        },
        "id": "3BJrmBJanalS",
        "outputId": "db700058-282e-4480-d0c7-73ab3150c73d"
      },
      "execution_count": 35,
      "outputs": [
        {
          "output_type": "execute_result",
          "data": {
            "text/plain": [
              "(1, 100)"
            ]
          },
          "metadata": {},
          "execution_count": 35
        }
      ]
    },
    {
      "cell_type": "code",
      "source": [
        "temp_input=list(x_input)\n",
        "temp_input=temp_input[0].tolist()"
      ],
      "metadata": {
        "id": "NGH5smgGnhl_"
      },
      "execution_count": 36,
      "outputs": []
    },
    {
      "cell_type": "markdown",
      "source": [
        "## Predicting the price for next 30 days"
      ],
      "metadata": {
        "id": "0JISAvHcFQZg"
      }
    },
    {
      "cell_type": "code",
      "source": [
        "from numpy import array\n",
        "\n",
        "lst_output=[]\n",
        "n_steps=100\n",
        "i=0\n",
        "while(i<30):\n",
        "    \n",
        "    if(len(temp_input)>100):\n",
        "        #print(temp_input)\n",
        "        x_input=np.array(temp_input[1:])\n",
        "        print(\"{} day input {}\".format(i,x_input))\n",
        "        x_input=x_input.reshape(1,-1)\n",
        "        x_input = x_input.reshape((1, n_steps, 1))\n",
        "        #print(x_input)\n",
        "        yhat = model.predict(x_input, verbose=0)\n",
        "        print(\"{} day output {}\".format(i,yhat))\n",
        "        temp_input.extend(yhat[0].tolist())\n",
        "        temp_input=temp_input[1:]\n",
        "        #print(temp_input)\n",
        "        lst_output.extend(yhat.tolist())\n",
        "        i=i+1\n",
        "    else:\n",
        "        x_input = x_input.reshape((1, n_steps,1))\n",
        "        yhat = model.predict(x_input, verbose=0)\n",
        "        print(yhat[0])\n",
        "        temp_input.extend(yhat[0].tolist())\n",
        "        print(len(temp_input))\n",
        "        lst_output.extend(yhat.tolist())\n",
        "        i=i+1\n",
        "    \n",
        "\n",
        "print(lst_output)"
      ],
      "metadata": {
        "colab": {
          "base_uri": "https://localhost:8080/"
        },
        "id": "iS4gzwgfnzDi",
        "outputId": "ca31566f-9744-4937-d247-8bb85a3c0cfd"
      },
      "execution_count": 37,
      "outputs": [
        {
          "output_type": "stream",
          "name": "stdout",
          "text": [
            "[0.11976769]\n",
            "101\n",
            "1 day input [0.14053851 0.12944271 0.11994991 0.1096556  0.1208516  0.13212273\n",
            " 0.13470257 0.14311835 0.14662492 0.15524108 0.1587226  0.16839073\n",
            " 0.17001879 0.17222292 0.1806387  0.17765811 0.16974327 0.16899186\n",
            " 0.17933626 0.17087038 0.16278021 0.16355667 0.15842204 0.14755166\n",
            " 0.15233563 0.1591985  0.1463995  0.14584847 0.15168441 0.15125861\n",
            " 0.14922981 0.13763306 0.14036318 0.12513463 0.12455855 0.14226675\n",
            " 0.12726362 0.12804008 0.13184721 0.14822793 0.12505949 0.12633688\n",
            " 0.11326237 0.11939887 0.09933626 0.08946775 0.10086412 0.09693175\n",
            " 0.10619912 0.08510958 0.07641828 0.07701941 0.09084534 0.08395742\n",
            " 0.08435817 0.09252348 0.107201   0.10519724 0.10487163 0.11113338\n",
            " 0.096531   0.09843456 0.10487163 0.10299311 0.08966813 0.07586725\n",
            " 0.0627176  0.06492173 0.07160927 0.05815905 0.06191609 0.07271133\n",
            " 0.07140889 0.0787226  0.08721353 0.08721353 0.07664371 0.08112711\n",
            " 0.07484033 0.0803757  0.08696306 0.09036944 0.09896055 0.10068879\n",
            " 0.0952536  0.09773325 0.09680651 0.10427051 0.10852849 0.10076393\n",
            " 0.11060739 0.11571697 0.12150282 0.1183469  0.11549155 0.11211021\n",
            " 0.12510958 0.12651221 0.13943644 0.11976769]\n",
            "1 day output [[0.12176243]]\n",
            "2 day input [0.12944271 0.11994991 0.1096556  0.1208516  0.13212273 0.13470257\n",
            " 0.14311835 0.14662492 0.15524108 0.1587226  0.16839073 0.17001879\n",
            " 0.17222292 0.1806387  0.17765811 0.16974327 0.16899186 0.17933626\n",
            " 0.17087038 0.16278021 0.16355667 0.15842204 0.14755166 0.15233563\n",
            " 0.1591985  0.1463995  0.14584847 0.15168441 0.15125861 0.14922981\n",
            " 0.13763306 0.14036318 0.12513463 0.12455855 0.14226675 0.12726362\n",
            " 0.12804008 0.13184721 0.14822793 0.12505949 0.12633688 0.11326237\n",
            " 0.11939887 0.09933626 0.08946775 0.10086412 0.09693175 0.10619912\n",
            " 0.08510958 0.07641828 0.07701941 0.09084534 0.08395742 0.08435817\n",
            " 0.09252348 0.107201   0.10519724 0.10487163 0.11113338 0.096531\n",
            " 0.09843456 0.10487163 0.10299311 0.08966813 0.07586725 0.0627176\n",
            " 0.06492173 0.07160927 0.05815905 0.06191609 0.07271133 0.07140889\n",
            " 0.0787226  0.08721353 0.08721353 0.07664371 0.08112711 0.07484033\n",
            " 0.0803757  0.08696306 0.09036944 0.09896055 0.10068879 0.0952536\n",
            " 0.09773325 0.09680651 0.10427051 0.10852849 0.10076393 0.11060739\n",
            " 0.11571697 0.12150282 0.1183469  0.11549155 0.11211021 0.12510958\n",
            " 0.12651221 0.13943644 0.11976769 0.12176243]\n",
            "2 day output [[0.12336671]]\n",
            "3 day input [0.11994991 0.1096556  0.1208516  0.13212273 0.13470257 0.14311835\n",
            " 0.14662492 0.15524108 0.1587226  0.16839073 0.17001879 0.17222292\n",
            " 0.1806387  0.17765811 0.16974327 0.16899186 0.17933626 0.17087038\n",
            " 0.16278021 0.16355667 0.15842204 0.14755166 0.15233563 0.1591985\n",
            " 0.1463995  0.14584847 0.15168441 0.15125861 0.14922981 0.13763306\n",
            " 0.14036318 0.12513463 0.12455855 0.14226675 0.12726362 0.12804008\n",
            " 0.13184721 0.14822793 0.12505949 0.12633688 0.11326237 0.11939887\n",
            " 0.09933626 0.08946775 0.10086412 0.09693175 0.10619912 0.08510958\n",
            " 0.07641828 0.07701941 0.09084534 0.08395742 0.08435817 0.09252348\n",
            " 0.107201   0.10519724 0.10487163 0.11113338 0.096531   0.09843456\n",
            " 0.10487163 0.10299311 0.08966813 0.07586725 0.0627176  0.06492173\n",
            " 0.07160927 0.05815905 0.06191609 0.07271133 0.07140889 0.0787226\n",
            " 0.08721353 0.08721353 0.07664371 0.08112711 0.07484033 0.0803757\n",
            " 0.08696306 0.09036944 0.09896055 0.10068879 0.0952536  0.09773325\n",
            " 0.09680651 0.10427051 0.10852849 0.10076393 0.11060739 0.11571697\n",
            " 0.12150282 0.1183469  0.11549155 0.11211021 0.12510958 0.12651221\n",
            " 0.13943644 0.11976769 0.12176243 0.12336671]\n",
            "3 day output [[0.12457441]]\n",
            "4 day input [0.1096556  0.1208516  0.13212273 0.13470257 0.14311835 0.14662492\n",
            " 0.15524108 0.1587226  0.16839073 0.17001879 0.17222292 0.1806387\n",
            " 0.17765811 0.16974327 0.16899186 0.17933626 0.17087038 0.16278021\n",
            " 0.16355667 0.15842204 0.14755166 0.15233563 0.1591985  0.1463995\n",
            " 0.14584847 0.15168441 0.15125861 0.14922981 0.13763306 0.14036318\n",
            " 0.12513463 0.12455855 0.14226675 0.12726362 0.12804008 0.13184721\n",
            " 0.14822793 0.12505949 0.12633688 0.11326237 0.11939887 0.09933626\n",
            " 0.08946775 0.10086412 0.09693175 0.10619912 0.08510958 0.07641828\n",
            " 0.07701941 0.09084534 0.08395742 0.08435817 0.09252348 0.107201\n",
            " 0.10519724 0.10487163 0.11113338 0.096531   0.09843456 0.10487163\n",
            " 0.10299311 0.08966813 0.07586725 0.0627176  0.06492173 0.07160927\n",
            " 0.05815905 0.06191609 0.07271133 0.07140889 0.0787226  0.08721353\n",
            " 0.08721353 0.07664371 0.08112711 0.07484033 0.0803757  0.08696306\n",
            " 0.09036944 0.09896055 0.10068879 0.0952536  0.09773325 0.09680651\n",
            " 0.10427051 0.10852849 0.10076393 0.11060739 0.11571697 0.12150282\n",
            " 0.1183469  0.11549155 0.11211021 0.12510958 0.12651221 0.13943644\n",
            " 0.11976769 0.12176243 0.12336671 0.12457441]\n",
            "4 day output [[0.12545432]]\n",
            "5 day input [0.1208516  0.13212273 0.13470257 0.14311835 0.14662492 0.15524108\n",
            " 0.1587226  0.16839073 0.17001879 0.17222292 0.1806387  0.17765811\n",
            " 0.16974327 0.16899186 0.17933626 0.17087038 0.16278021 0.16355667\n",
            " 0.15842204 0.14755166 0.15233563 0.1591985  0.1463995  0.14584847\n",
            " 0.15168441 0.15125861 0.14922981 0.13763306 0.14036318 0.12513463\n",
            " 0.12455855 0.14226675 0.12726362 0.12804008 0.13184721 0.14822793\n",
            " 0.12505949 0.12633688 0.11326237 0.11939887 0.09933626 0.08946775\n",
            " 0.10086412 0.09693175 0.10619912 0.08510958 0.07641828 0.07701941\n",
            " 0.09084534 0.08395742 0.08435817 0.09252348 0.107201   0.10519724\n",
            " 0.10487163 0.11113338 0.096531   0.09843456 0.10487163 0.10299311\n",
            " 0.08966813 0.07586725 0.0627176  0.06492173 0.07160927 0.05815905\n",
            " 0.06191609 0.07271133 0.07140889 0.0787226  0.08721353 0.08721353\n",
            " 0.07664371 0.08112711 0.07484033 0.0803757  0.08696306 0.09036944\n",
            " 0.09896055 0.10068879 0.0952536  0.09773325 0.09680651 0.10427051\n",
            " 0.10852849 0.10076393 0.11060739 0.11571697 0.12150282 0.1183469\n",
            " 0.11549155 0.11211021 0.12510958 0.12651221 0.13943644 0.11976769\n",
            " 0.12176243 0.12336671 0.12457441 0.12545432]\n",
            "5 day output [[0.12609114]]\n",
            "6 day input [0.13212273 0.13470257 0.14311835 0.14662492 0.15524108 0.1587226\n",
            " 0.16839073 0.17001879 0.17222292 0.1806387  0.17765811 0.16974327\n",
            " 0.16899186 0.17933626 0.17087038 0.16278021 0.16355667 0.15842204\n",
            " 0.14755166 0.15233563 0.1591985  0.1463995  0.14584847 0.15168441\n",
            " 0.15125861 0.14922981 0.13763306 0.14036318 0.12513463 0.12455855\n",
            " 0.14226675 0.12726362 0.12804008 0.13184721 0.14822793 0.12505949\n",
            " 0.12633688 0.11326237 0.11939887 0.09933626 0.08946775 0.10086412\n",
            " 0.09693175 0.10619912 0.08510958 0.07641828 0.07701941 0.09084534\n",
            " 0.08395742 0.08435817 0.09252348 0.107201   0.10519724 0.10487163\n",
            " 0.11113338 0.096531   0.09843456 0.10487163 0.10299311 0.08966813\n",
            " 0.07586725 0.0627176  0.06492173 0.07160927 0.05815905 0.06191609\n",
            " 0.07271133 0.07140889 0.0787226  0.08721353 0.08721353 0.07664371\n",
            " 0.08112711 0.07484033 0.0803757  0.08696306 0.09036944 0.09896055\n",
            " 0.10068879 0.0952536  0.09773325 0.09680651 0.10427051 0.10852849\n",
            " 0.10076393 0.11060739 0.11571697 0.12150282 0.1183469  0.11549155\n",
            " 0.11211021 0.12510958 0.12651221 0.13943644 0.11976769 0.12176243\n",
            " 0.12336671 0.12457441 0.12545432 0.12609114]\n",
            "6 day output [[0.12655978]]\n",
            "7 day input [0.13470257 0.14311835 0.14662492 0.15524108 0.1587226  0.16839073\n",
            " 0.17001879 0.17222292 0.1806387  0.17765811 0.16974327 0.16899186\n",
            " 0.17933626 0.17087038 0.16278021 0.16355667 0.15842204 0.14755166\n",
            " 0.15233563 0.1591985  0.1463995  0.14584847 0.15168441 0.15125861\n",
            " 0.14922981 0.13763306 0.14036318 0.12513463 0.12455855 0.14226675\n",
            " 0.12726362 0.12804008 0.13184721 0.14822793 0.12505949 0.12633688\n",
            " 0.11326237 0.11939887 0.09933626 0.08946775 0.10086412 0.09693175\n",
            " 0.10619912 0.08510958 0.07641828 0.07701941 0.09084534 0.08395742\n",
            " 0.08435817 0.09252348 0.107201   0.10519724 0.10487163 0.11113338\n",
            " 0.096531   0.09843456 0.10487163 0.10299311 0.08966813 0.07586725\n",
            " 0.0627176  0.06492173 0.07160927 0.05815905 0.06191609 0.07271133\n",
            " 0.07140889 0.0787226  0.08721353 0.08721353 0.07664371 0.08112711\n",
            " 0.07484033 0.0803757  0.08696306 0.09036944 0.09896055 0.10068879\n",
            " 0.0952536  0.09773325 0.09680651 0.10427051 0.10852849 0.10076393\n",
            " 0.11060739 0.11571697 0.12150282 0.1183469  0.11549155 0.11211021\n",
            " 0.12510958 0.12651221 0.13943644 0.11976769 0.12176243 0.12336671\n",
            " 0.12457441 0.12545432 0.12609114 0.12655978]\n",
            "7 day output [[0.12691765]]\n",
            "8 day input [0.14311835 0.14662492 0.15524108 0.1587226  0.16839073 0.17001879\n",
            " 0.17222292 0.1806387  0.17765811 0.16974327 0.16899186 0.17933626\n",
            " 0.17087038 0.16278021 0.16355667 0.15842204 0.14755166 0.15233563\n",
            " 0.1591985  0.1463995  0.14584847 0.15168441 0.15125861 0.14922981\n",
            " 0.13763306 0.14036318 0.12513463 0.12455855 0.14226675 0.12726362\n",
            " 0.12804008 0.13184721 0.14822793 0.12505949 0.12633688 0.11326237\n",
            " 0.11939887 0.09933626 0.08946775 0.10086412 0.09693175 0.10619912\n",
            " 0.08510958 0.07641828 0.07701941 0.09084534 0.08395742 0.08435817\n",
            " 0.09252348 0.107201   0.10519724 0.10487163 0.11113338 0.096531\n",
            " 0.09843456 0.10487163 0.10299311 0.08966813 0.07586725 0.0627176\n",
            " 0.06492173 0.07160927 0.05815905 0.06191609 0.07271133 0.07140889\n",
            " 0.0787226  0.08721353 0.08721353 0.07664371 0.08112711 0.07484033\n",
            " 0.0803757  0.08696306 0.09036944 0.09896055 0.10068879 0.0952536\n",
            " 0.09773325 0.09680651 0.10427051 0.10852849 0.10076393 0.11060739\n",
            " 0.11571697 0.12150282 0.1183469  0.11549155 0.11211021 0.12510958\n",
            " 0.12651221 0.13943644 0.11976769 0.12176243 0.12336671 0.12457441\n",
            " 0.12545432 0.12609114 0.12655978 0.12691765]\n",
            "8 day output [[0.12720485]]\n",
            "9 day input [0.14662492 0.15524108 0.1587226  0.16839073 0.17001879 0.17222292\n",
            " 0.1806387  0.17765811 0.16974327 0.16899186 0.17933626 0.17087038\n",
            " 0.16278021 0.16355667 0.15842204 0.14755166 0.15233563 0.1591985\n",
            " 0.1463995  0.14584847 0.15168441 0.15125861 0.14922981 0.13763306\n",
            " 0.14036318 0.12513463 0.12455855 0.14226675 0.12726362 0.12804008\n",
            " 0.13184721 0.14822793 0.12505949 0.12633688 0.11326237 0.11939887\n",
            " 0.09933626 0.08946775 0.10086412 0.09693175 0.10619912 0.08510958\n",
            " 0.07641828 0.07701941 0.09084534 0.08395742 0.08435817 0.09252348\n",
            " 0.107201   0.10519724 0.10487163 0.11113338 0.096531   0.09843456\n",
            " 0.10487163 0.10299311 0.08966813 0.07586725 0.0627176  0.06492173\n",
            " 0.07160927 0.05815905 0.06191609 0.07271133 0.07140889 0.0787226\n",
            " 0.08721353 0.08721353 0.07664371 0.08112711 0.07484033 0.0803757\n",
            " 0.08696306 0.09036944 0.09896055 0.10068879 0.0952536  0.09773325\n",
            " 0.09680651 0.10427051 0.10852849 0.10076393 0.11060739 0.11571697\n",
            " 0.12150282 0.1183469  0.11549155 0.11211021 0.12510958 0.12651221\n",
            " 0.13943644 0.11976769 0.12176243 0.12336671 0.12457441 0.12545432\n",
            " 0.12609114 0.12655978 0.12691765 0.12720485]\n",
            "9 day output [[0.12744762]]\n",
            "10 day input [0.15524108 0.1587226  0.16839073 0.17001879 0.17222292 0.1806387\n",
            " 0.17765811 0.16974327 0.16899186 0.17933626 0.17087038 0.16278021\n",
            " 0.16355667 0.15842204 0.14755166 0.15233563 0.1591985  0.1463995\n",
            " 0.14584847 0.15168441 0.15125861 0.14922981 0.13763306 0.14036318\n",
            " 0.12513463 0.12455855 0.14226675 0.12726362 0.12804008 0.13184721\n",
            " 0.14822793 0.12505949 0.12633688 0.11326237 0.11939887 0.09933626\n",
            " 0.08946775 0.10086412 0.09693175 0.10619912 0.08510958 0.07641828\n",
            " 0.07701941 0.09084534 0.08395742 0.08435817 0.09252348 0.107201\n",
            " 0.10519724 0.10487163 0.11113338 0.096531   0.09843456 0.10487163\n",
            " 0.10299311 0.08966813 0.07586725 0.0627176  0.06492173 0.07160927\n",
            " 0.05815905 0.06191609 0.07271133 0.07140889 0.0787226  0.08721353\n",
            " 0.08721353 0.07664371 0.08112711 0.07484033 0.0803757  0.08696306\n",
            " 0.09036944 0.09896055 0.10068879 0.0952536  0.09773325 0.09680651\n",
            " 0.10427051 0.10852849 0.10076393 0.11060739 0.11571697 0.12150282\n",
            " 0.1183469  0.11549155 0.11211021 0.12510958 0.12651221 0.13943644\n",
            " 0.11976769 0.12176243 0.12336671 0.12457441 0.12545432 0.12609114\n",
            " 0.12655978 0.12691765 0.12720485 0.12744762]\n",
            "10 day output [[0.12766217]]\n",
            "11 day input [0.1587226  0.16839073 0.17001879 0.17222292 0.1806387  0.17765811\n",
            " 0.16974327 0.16899186 0.17933626 0.17087038 0.16278021 0.16355667\n",
            " 0.15842204 0.14755166 0.15233563 0.1591985  0.1463995  0.14584847\n",
            " 0.15168441 0.15125861 0.14922981 0.13763306 0.14036318 0.12513463\n",
            " 0.12455855 0.14226675 0.12726362 0.12804008 0.13184721 0.14822793\n",
            " 0.12505949 0.12633688 0.11326237 0.11939887 0.09933626 0.08946775\n",
            " 0.10086412 0.09693175 0.10619912 0.08510958 0.07641828 0.07701941\n",
            " 0.09084534 0.08395742 0.08435817 0.09252348 0.107201   0.10519724\n",
            " 0.10487163 0.11113338 0.096531   0.09843456 0.10487163 0.10299311\n",
            " 0.08966813 0.07586725 0.0627176  0.06492173 0.07160927 0.05815905\n",
            " 0.06191609 0.07271133 0.07140889 0.0787226  0.08721353 0.08721353\n",
            " 0.07664371 0.08112711 0.07484033 0.0803757  0.08696306 0.09036944\n",
            " 0.09896055 0.10068879 0.0952536  0.09773325 0.09680651 0.10427051\n",
            " 0.10852849 0.10076393 0.11060739 0.11571697 0.12150282 0.1183469\n",
            " 0.11549155 0.11211021 0.12510958 0.12651221 0.13943644 0.11976769\n",
            " 0.12176243 0.12336671 0.12457441 0.12545432 0.12609114 0.12655978\n",
            " 0.12691765 0.12720485 0.12744762 0.12766217]\n",
            "11 day output [[0.12785804]]\n",
            "12 day input [0.16839073 0.17001879 0.17222292 0.1806387  0.17765811 0.16974327\n",
            " 0.16899186 0.17933626 0.17087038 0.16278021 0.16355667 0.15842204\n",
            " 0.14755166 0.15233563 0.1591985  0.1463995  0.14584847 0.15168441\n",
            " 0.15125861 0.14922981 0.13763306 0.14036318 0.12513463 0.12455855\n",
            " 0.14226675 0.12726362 0.12804008 0.13184721 0.14822793 0.12505949\n",
            " 0.12633688 0.11326237 0.11939887 0.09933626 0.08946775 0.10086412\n",
            " 0.09693175 0.10619912 0.08510958 0.07641828 0.07701941 0.09084534\n",
            " 0.08395742 0.08435817 0.09252348 0.107201   0.10519724 0.10487163\n",
            " 0.11113338 0.096531   0.09843456 0.10487163 0.10299311 0.08966813\n",
            " 0.07586725 0.0627176  0.06492173 0.07160927 0.05815905 0.06191609\n",
            " 0.07271133 0.07140889 0.0787226  0.08721353 0.08721353 0.07664371\n",
            " 0.08112711 0.07484033 0.0803757  0.08696306 0.09036944 0.09896055\n",
            " 0.10068879 0.0952536  0.09773325 0.09680651 0.10427051 0.10852849\n",
            " 0.10076393 0.11060739 0.11571697 0.12150282 0.1183469  0.11549155\n",
            " 0.11211021 0.12510958 0.12651221 0.13943644 0.11976769 0.12176243\n",
            " 0.12336671 0.12457441 0.12545432 0.12609114 0.12655978 0.12691765\n",
            " 0.12720485 0.12744762 0.12766217 0.12785804]\n",
            "12 day output [[0.12804057]]\n",
            "13 day input [0.17001879 0.17222292 0.1806387  0.17765811 0.16974327 0.16899186\n",
            " 0.17933626 0.17087038 0.16278021 0.16355667 0.15842204 0.14755166\n",
            " 0.15233563 0.1591985  0.1463995  0.14584847 0.15168441 0.15125861\n",
            " 0.14922981 0.13763306 0.14036318 0.12513463 0.12455855 0.14226675\n",
            " 0.12726362 0.12804008 0.13184721 0.14822793 0.12505949 0.12633688\n",
            " 0.11326237 0.11939887 0.09933626 0.08946775 0.10086412 0.09693175\n",
            " 0.10619912 0.08510958 0.07641828 0.07701941 0.09084534 0.08395742\n",
            " 0.08435817 0.09252348 0.107201   0.10519724 0.10487163 0.11113338\n",
            " 0.096531   0.09843456 0.10487163 0.10299311 0.08966813 0.07586725\n",
            " 0.0627176  0.06492173 0.07160927 0.05815905 0.06191609 0.07271133\n",
            " 0.07140889 0.0787226  0.08721353 0.08721353 0.07664371 0.08112711\n",
            " 0.07484033 0.0803757  0.08696306 0.09036944 0.09896055 0.10068879\n",
            " 0.0952536  0.09773325 0.09680651 0.10427051 0.10852849 0.10076393\n",
            " 0.11060739 0.11571697 0.12150282 0.1183469  0.11549155 0.11211021\n",
            " 0.12510958 0.12651221 0.13943644 0.11976769 0.12176243 0.12336671\n",
            " 0.12457441 0.12545432 0.12609114 0.12655978 0.12691765 0.12720485\n",
            " 0.12744762 0.12766217 0.12785804 0.12804057]\n",
            "13 day output [[0.12821259]]\n",
            "14 day input [0.17222292 0.1806387  0.17765811 0.16974327 0.16899186 0.17933626\n",
            " 0.17087038 0.16278021 0.16355667 0.15842204 0.14755166 0.15233563\n",
            " 0.1591985  0.1463995  0.14584847 0.15168441 0.15125861 0.14922981\n",
            " 0.13763306 0.14036318 0.12513463 0.12455855 0.14226675 0.12726362\n",
            " 0.12804008 0.13184721 0.14822793 0.12505949 0.12633688 0.11326237\n",
            " 0.11939887 0.09933626 0.08946775 0.10086412 0.09693175 0.10619912\n",
            " 0.08510958 0.07641828 0.07701941 0.09084534 0.08395742 0.08435817\n",
            " 0.09252348 0.107201   0.10519724 0.10487163 0.11113338 0.096531\n",
            " 0.09843456 0.10487163 0.10299311 0.08966813 0.07586725 0.0627176\n",
            " 0.06492173 0.07160927 0.05815905 0.06191609 0.07271133 0.07140889\n",
            " 0.0787226  0.08721353 0.08721353 0.07664371 0.08112711 0.07484033\n",
            " 0.0803757  0.08696306 0.09036944 0.09896055 0.10068879 0.0952536\n",
            " 0.09773325 0.09680651 0.10427051 0.10852849 0.10076393 0.11060739\n",
            " 0.11571697 0.12150282 0.1183469  0.11549155 0.11211021 0.12510958\n",
            " 0.12651221 0.13943644 0.11976769 0.12176243 0.12336671 0.12457441\n",
            " 0.12545432 0.12609114 0.12655978 0.12691765 0.12720485 0.12744762\n",
            " 0.12766217 0.12785804 0.12804057 0.12821259]\n",
            "14 day output [[0.12837549]]\n",
            "15 day input [0.1806387  0.17765811 0.16974327 0.16899186 0.17933626 0.17087038\n",
            " 0.16278021 0.16355667 0.15842204 0.14755166 0.15233563 0.1591985\n",
            " 0.1463995  0.14584847 0.15168441 0.15125861 0.14922981 0.13763306\n",
            " 0.14036318 0.12513463 0.12455855 0.14226675 0.12726362 0.12804008\n",
            " 0.13184721 0.14822793 0.12505949 0.12633688 0.11326237 0.11939887\n",
            " 0.09933626 0.08946775 0.10086412 0.09693175 0.10619912 0.08510958\n",
            " 0.07641828 0.07701941 0.09084534 0.08395742 0.08435817 0.09252348\n",
            " 0.107201   0.10519724 0.10487163 0.11113338 0.096531   0.09843456\n",
            " 0.10487163 0.10299311 0.08966813 0.07586725 0.0627176  0.06492173\n",
            " 0.07160927 0.05815905 0.06191609 0.07271133 0.07140889 0.0787226\n",
            " 0.08721353 0.08721353 0.07664371 0.08112711 0.07484033 0.0803757\n",
            " 0.08696306 0.09036944 0.09896055 0.10068879 0.0952536  0.09773325\n",
            " 0.09680651 0.10427051 0.10852849 0.10076393 0.11060739 0.11571697\n",
            " 0.12150282 0.1183469  0.11549155 0.11211021 0.12510958 0.12651221\n",
            " 0.13943644 0.11976769 0.12176243 0.12336671 0.12457441 0.12545432\n",
            " 0.12609114 0.12655978 0.12691765 0.12720485 0.12744762 0.12766217\n",
            " 0.12785804 0.12804057 0.12821259 0.12837549]\n",
            "15 day output [[0.12852988]]\n",
            "16 day input [0.17765811 0.16974327 0.16899186 0.17933626 0.17087038 0.16278021\n",
            " 0.16355667 0.15842204 0.14755166 0.15233563 0.1591985  0.1463995\n",
            " 0.14584847 0.15168441 0.15125861 0.14922981 0.13763306 0.14036318\n",
            " 0.12513463 0.12455855 0.14226675 0.12726362 0.12804008 0.13184721\n",
            " 0.14822793 0.12505949 0.12633688 0.11326237 0.11939887 0.09933626\n",
            " 0.08946775 0.10086412 0.09693175 0.10619912 0.08510958 0.07641828\n",
            " 0.07701941 0.09084534 0.08395742 0.08435817 0.09252348 0.107201\n",
            " 0.10519724 0.10487163 0.11113338 0.096531   0.09843456 0.10487163\n",
            " 0.10299311 0.08966813 0.07586725 0.0627176  0.06492173 0.07160927\n",
            " 0.05815905 0.06191609 0.07271133 0.07140889 0.0787226  0.08721353\n",
            " 0.08721353 0.07664371 0.08112711 0.07484033 0.0803757  0.08696306\n",
            " 0.09036944 0.09896055 0.10068879 0.0952536  0.09773325 0.09680651\n",
            " 0.10427051 0.10852849 0.10076393 0.11060739 0.11571697 0.12150282\n",
            " 0.1183469  0.11549155 0.11211021 0.12510958 0.12651221 0.13943644\n",
            " 0.11976769 0.12176243 0.12336671 0.12457441 0.12545432 0.12609114\n",
            " 0.12655978 0.12691765 0.12720485 0.12744762 0.12766217 0.12785804\n",
            " 0.12804057 0.12821259 0.12837549 0.12852988]\n",
            "16 day output [[0.12867607]]\n",
            "17 day input [0.16974327 0.16899186 0.17933626 0.17087038 0.16278021 0.16355667\n",
            " 0.15842204 0.14755166 0.15233563 0.1591985  0.1463995  0.14584847\n",
            " 0.15168441 0.15125861 0.14922981 0.13763306 0.14036318 0.12513463\n",
            " 0.12455855 0.14226675 0.12726362 0.12804008 0.13184721 0.14822793\n",
            " 0.12505949 0.12633688 0.11326237 0.11939887 0.09933626 0.08946775\n",
            " 0.10086412 0.09693175 0.10619912 0.08510958 0.07641828 0.07701941\n",
            " 0.09084534 0.08395742 0.08435817 0.09252348 0.107201   0.10519724\n",
            " 0.10487163 0.11113338 0.096531   0.09843456 0.10487163 0.10299311\n",
            " 0.08966813 0.07586725 0.0627176  0.06492173 0.07160927 0.05815905\n",
            " 0.06191609 0.07271133 0.07140889 0.0787226  0.08721353 0.08721353\n",
            " 0.07664371 0.08112711 0.07484033 0.0803757  0.08696306 0.09036944\n",
            " 0.09896055 0.10068879 0.0952536  0.09773325 0.09680651 0.10427051\n",
            " 0.10852849 0.10076393 0.11060739 0.11571697 0.12150282 0.1183469\n",
            " 0.11549155 0.11211021 0.12510958 0.12651221 0.13943644 0.11976769\n",
            " 0.12176243 0.12336671 0.12457441 0.12545432 0.12609114 0.12655978\n",
            " 0.12691765 0.12720485 0.12744762 0.12766217 0.12785804 0.12804057\n",
            " 0.12821259 0.12837549 0.12852988 0.12867607]\n",
            "17 day output [[0.1288142]]\n",
            "18 day input [0.16899186 0.17933626 0.17087038 0.16278021 0.16355667 0.15842204\n",
            " 0.14755166 0.15233563 0.1591985  0.1463995  0.14584847 0.15168441\n",
            " 0.15125861 0.14922981 0.13763306 0.14036318 0.12513463 0.12455855\n",
            " 0.14226675 0.12726362 0.12804008 0.13184721 0.14822793 0.12505949\n",
            " 0.12633688 0.11326237 0.11939887 0.09933626 0.08946775 0.10086412\n",
            " 0.09693175 0.10619912 0.08510958 0.07641828 0.07701941 0.09084534\n",
            " 0.08395742 0.08435817 0.09252348 0.107201   0.10519724 0.10487163\n",
            " 0.11113338 0.096531   0.09843456 0.10487163 0.10299311 0.08966813\n",
            " 0.07586725 0.0627176  0.06492173 0.07160927 0.05815905 0.06191609\n",
            " 0.07271133 0.07140889 0.0787226  0.08721353 0.08721353 0.07664371\n",
            " 0.08112711 0.07484033 0.0803757  0.08696306 0.09036944 0.09896055\n",
            " 0.10068879 0.0952536  0.09773325 0.09680651 0.10427051 0.10852849\n",
            " 0.10076393 0.11060739 0.11571697 0.12150282 0.1183469  0.11549155\n",
            " 0.11211021 0.12510958 0.12651221 0.13943644 0.11976769 0.12176243\n",
            " 0.12336671 0.12457441 0.12545432 0.12609114 0.12655978 0.12691765\n",
            " 0.12720485 0.12744762 0.12766217 0.12785804 0.12804057 0.12821259\n",
            " 0.12837549 0.12852988 0.12867607 0.12881421]\n",
            "18 day output [[0.12894423]]\n",
            "19 day input [0.17933626 0.17087038 0.16278021 0.16355667 0.15842204 0.14755166\n",
            " 0.15233563 0.1591985  0.1463995  0.14584847 0.15168441 0.15125861\n",
            " 0.14922981 0.13763306 0.14036318 0.12513463 0.12455855 0.14226675\n",
            " 0.12726362 0.12804008 0.13184721 0.14822793 0.12505949 0.12633688\n",
            " 0.11326237 0.11939887 0.09933626 0.08946775 0.10086412 0.09693175\n",
            " 0.10619912 0.08510958 0.07641828 0.07701941 0.09084534 0.08395742\n",
            " 0.08435817 0.09252348 0.107201   0.10519724 0.10487163 0.11113338\n",
            " 0.096531   0.09843456 0.10487163 0.10299311 0.08966813 0.07586725\n",
            " 0.0627176  0.06492173 0.07160927 0.05815905 0.06191609 0.07271133\n",
            " 0.07140889 0.0787226  0.08721353 0.08721353 0.07664371 0.08112711\n",
            " 0.07484033 0.0803757  0.08696306 0.09036944 0.09896055 0.10068879\n",
            " 0.0952536  0.09773325 0.09680651 0.10427051 0.10852849 0.10076393\n",
            " 0.11060739 0.11571697 0.12150282 0.1183469  0.11549155 0.11211021\n",
            " 0.12510958 0.12651221 0.13943644 0.11976769 0.12176243 0.12336671\n",
            " 0.12457441 0.12545432 0.12609114 0.12655978 0.12691765 0.12720485\n",
            " 0.12744762 0.12766217 0.12785804 0.12804057 0.12821259 0.12837549\n",
            " 0.12852988 0.12867607 0.12881421 0.12894423]\n",
            "19 day output [[0.12906626]]\n",
            "20 day input [0.17087038 0.16278021 0.16355667 0.15842204 0.14755166 0.15233563\n",
            " 0.1591985  0.1463995  0.14584847 0.15168441 0.15125861 0.14922981\n",
            " 0.13763306 0.14036318 0.12513463 0.12455855 0.14226675 0.12726362\n",
            " 0.12804008 0.13184721 0.14822793 0.12505949 0.12633688 0.11326237\n",
            " 0.11939887 0.09933626 0.08946775 0.10086412 0.09693175 0.10619912\n",
            " 0.08510958 0.07641828 0.07701941 0.09084534 0.08395742 0.08435817\n",
            " 0.09252348 0.107201   0.10519724 0.10487163 0.11113338 0.096531\n",
            " 0.09843456 0.10487163 0.10299311 0.08966813 0.07586725 0.0627176\n",
            " 0.06492173 0.07160927 0.05815905 0.06191609 0.07271133 0.07140889\n",
            " 0.0787226  0.08721353 0.08721353 0.07664371 0.08112711 0.07484033\n",
            " 0.0803757  0.08696306 0.09036944 0.09896055 0.10068879 0.0952536\n",
            " 0.09773325 0.09680651 0.10427051 0.10852849 0.10076393 0.11060739\n",
            " 0.11571697 0.12150282 0.1183469  0.11549155 0.11211021 0.12510958\n",
            " 0.12651221 0.13943644 0.11976769 0.12176243 0.12336671 0.12457441\n",
            " 0.12545432 0.12609114 0.12655978 0.12691765 0.12720485 0.12744762\n",
            " 0.12766217 0.12785804 0.12804057 0.12821259 0.12837549 0.12852988\n",
            " 0.12867607 0.12881421 0.12894423 0.12906626]\n",
            "20 day output [[0.12918039]]\n",
            "21 day input [0.16278021 0.16355667 0.15842204 0.14755166 0.15233563 0.1591985\n",
            " 0.1463995  0.14584847 0.15168441 0.15125861 0.14922981 0.13763306\n",
            " 0.14036318 0.12513463 0.12455855 0.14226675 0.12726362 0.12804008\n",
            " 0.13184721 0.14822793 0.12505949 0.12633688 0.11326237 0.11939887\n",
            " 0.09933626 0.08946775 0.10086412 0.09693175 0.10619912 0.08510958\n",
            " 0.07641828 0.07701941 0.09084534 0.08395742 0.08435817 0.09252348\n",
            " 0.107201   0.10519724 0.10487163 0.11113338 0.096531   0.09843456\n",
            " 0.10487163 0.10299311 0.08966813 0.07586725 0.0627176  0.06492173\n",
            " 0.07160927 0.05815905 0.06191609 0.07271133 0.07140889 0.0787226\n",
            " 0.08721353 0.08721353 0.07664371 0.08112711 0.07484033 0.0803757\n",
            " 0.08696306 0.09036944 0.09896055 0.10068879 0.0952536  0.09773325\n",
            " 0.09680651 0.10427051 0.10852849 0.10076393 0.11060739 0.11571697\n",
            " 0.12150282 0.1183469  0.11549155 0.11211021 0.12510958 0.12651221\n",
            " 0.13943644 0.11976769 0.12176243 0.12336671 0.12457441 0.12545432\n",
            " 0.12609114 0.12655978 0.12691765 0.12720485 0.12744762 0.12766217\n",
            " 0.12785804 0.12804057 0.12821259 0.12837549 0.12852988 0.12867607\n",
            " 0.12881421 0.12894423 0.12906626 0.12918039]\n",
            "21 day output [[0.12928678]]\n",
            "22 day input [0.16355667 0.15842204 0.14755166 0.15233563 0.1591985  0.1463995\n",
            " 0.14584847 0.15168441 0.15125861 0.14922981 0.13763306 0.14036318\n",
            " 0.12513463 0.12455855 0.14226675 0.12726362 0.12804008 0.13184721\n",
            " 0.14822793 0.12505949 0.12633688 0.11326237 0.11939887 0.09933626\n",
            " 0.08946775 0.10086412 0.09693175 0.10619912 0.08510958 0.07641828\n",
            " 0.07701941 0.09084534 0.08395742 0.08435817 0.09252348 0.107201\n",
            " 0.10519724 0.10487163 0.11113338 0.096531   0.09843456 0.10487163\n",
            " 0.10299311 0.08966813 0.07586725 0.0627176  0.06492173 0.07160927\n",
            " 0.05815905 0.06191609 0.07271133 0.07140889 0.0787226  0.08721353\n",
            " 0.08721353 0.07664371 0.08112711 0.07484033 0.0803757  0.08696306\n",
            " 0.09036944 0.09896055 0.10068879 0.0952536  0.09773325 0.09680651\n",
            " 0.10427051 0.10852849 0.10076393 0.11060739 0.11571697 0.12150282\n",
            " 0.1183469  0.11549155 0.11211021 0.12510958 0.12651221 0.13943644\n",
            " 0.11976769 0.12176243 0.12336671 0.12457441 0.12545432 0.12609114\n",
            " 0.12655978 0.12691765 0.12720485 0.12744762 0.12766217 0.12785804\n",
            " 0.12804057 0.12821259 0.12837549 0.12852988 0.12867607 0.12881421\n",
            " 0.12894423 0.12906626 0.12918039 0.12928678]\n",
            "22 day output [[0.12938562]]\n",
            "23 day input [0.15842204 0.14755166 0.15233563 0.1591985  0.1463995  0.14584847\n",
            " 0.15168441 0.15125861 0.14922981 0.13763306 0.14036318 0.12513463\n",
            " 0.12455855 0.14226675 0.12726362 0.12804008 0.13184721 0.14822793\n",
            " 0.12505949 0.12633688 0.11326237 0.11939887 0.09933626 0.08946775\n",
            " 0.10086412 0.09693175 0.10619912 0.08510958 0.07641828 0.07701941\n",
            " 0.09084534 0.08395742 0.08435817 0.09252348 0.107201   0.10519724\n",
            " 0.10487163 0.11113338 0.096531   0.09843456 0.10487163 0.10299311\n",
            " 0.08966813 0.07586725 0.0627176  0.06492173 0.07160927 0.05815905\n",
            " 0.06191609 0.07271133 0.07140889 0.0787226  0.08721353 0.08721353\n",
            " 0.07664371 0.08112711 0.07484033 0.0803757  0.08696306 0.09036944\n",
            " 0.09896055 0.10068879 0.0952536  0.09773325 0.09680651 0.10427051\n",
            " 0.10852849 0.10076393 0.11060739 0.11571697 0.12150282 0.1183469\n",
            " 0.11549155 0.11211021 0.12510958 0.12651221 0.13943644 0.11976769\n",
            " 0.12176243 0.12336671 0.12457441 0.12545432 0.12609114 0.12655978\n",
            " 0.12691765 0.12720485 0.12744762 0.12766217 0.12785804 0.12804057\n",
            " 0.12821259 0.12837549 0.12852988 0.12867607 0.12881421 0.12894423\n",
            " 0.12906626 0.12918039 0.12928678 0.12938562]\n",
            "23 day output [[0.1294772]]\n",
            "24 day input [0.14755166 0.15233563 0.1591985  0.1463995  0.14584847 0.15168441\n",
            " 0.15125861 0.14922981 0.13763306 0.14036318 0.12513463 0.12455855\n",
            " 0.14226675 0.12726362 0.12804008 0.13184721 0.14822793 0.12505949\n",
            " 0.12633688 0.11326237 0.11939887 0.09933626 0.08946775 0.10086412\n",
            " 0.09693175 0.10619912 0.08510958 0.07641828 0.07701941 0.09084534\n",
            " 0.08395742 0.08435817 0.09252348 0.107201   0.10519724 0.10487163\n",
            " 0.11113338 0.096531   0.09843456 0.10487163 0.10299311 0.08966813\n",
            " 0.07586725 0.0627176  0.06492173 0.07160927 0.05815905 0.06191609\n",
            " 0.07271133 0.07140889 0.0787226  0.08721353 0.08721353 0.07664371\n",
            " 0.08112711 0.07484033 0.0803757  0.08696306 0.09036944 0.09896055\n",
            " 0.10068879 0.0952536  0.09773325 0.09680651 0.10427051 0.10852849\n",
            " 0.10076393 0.11060739 0.11571697 0.12150282 0.1183469  0.11549155\n",
            " 0.11211021 0.12510958 0.12651221 0.13943644 0.11976769 0.12176243\n",
            " 0.12336671 0.12457441 0.12545432 0.12609114 0.12655978 0.12691765\n",
            " 0.12720485 0.12744762 0.12766217 0.12785804 0.12804057 0.12821259\n",
            " 0.12837549 0.12852988 0.12867607 0.12881421 0.12894423 0.12906626\n",
            " 0.12918039 0.12928678 0.12938562 0.1294772 ]\n",
            "24 day output [[0.12956186]]\n",
            "25 day input [0.15233563 0.1591985  0.1463995  0.14584847 0.15168441 0.15125861\n",
            " 0.14922981 0.13763306 0.14036318 0.12513463 0.12455855 0.14226675\n",
            " 0.12726362 0.12804008 0.13184721 0.14822793 0.12505949 0.12633688\n",
            " 0.11326237 0.11939887 0.09933626 0.08946775 0.10086412 0.09693175\n",
            " 0.10619912 0.08510958 0.07641828 0.07701941 0.09084534 0.08395742\n",
            " 0.08435817 0.09252348 0.107201   0.10519724 0.10487163 0.11113338\n",
            " 0.096531   0.09843456 0.10487163 0.10299311 0.08966813 0.07586725\n",
            " 0.0627176  0.06492173 0.07160927 0.05815905 0.06191609 0.07271133\n",
            " 0.07140889 0.0787226  0.08721353 0.08721353 0.07664371 0.08112711\n",
            " 0.07484033 0.0803757  0.08696306 0.09036944 0.09896055 0.10068879\n",
            " 0.0952536  0.09773325 0.09680651 0.10427051 0.10852849 0.10076393\n",
            " 0.11060739 0.11571697 0.12150282 0.1183469  0.11549155 0.11211021\n",
            " 0.12510958 0.12651221 0.13943644 0.11976769 0.12176243 0.12336671\n",
            " 0.12457441 0.12545432 0.12609114 0.12655978 0.12691765 0.12720485\n",
            " 0.12744762 0.12766217 0.12785804 0.12804057 0.12821259 0.12837549\n",
            " 0.12852988 0.12867607 0.12881421 0.12894423 0.12906626 0.12918039\n",
            " 0.12928678 0.12938562 0.1294772  0.12956186]\n",
            "25 day output [[0.12963997]]\n",
            "26 day input [0.1591985  0.1463995  0.14584847 0.15168441 0.15125861 0.14922981\n",
            " 0.13763306 0.14036318 0.12513463 0.12455855 0.14226675 0.12726362\n",
            " 0.12804008 0.13184721 0.14822793 0.12505949 0.12633688 0.11326237\n",
            " 0.11939887 0.09933626 0.08946775 0.10086412 0.09693175 0.10619912\n",
            " 0.08510958 0.07641828 0.07701941 0.09084534 0.08395742 0.08435817\n",
            " 0.09252348 0.107201   0.10519724 0.10487163 0.11113338 0.096531\n",
            " 0.09843456 0.10487163 0.10299311 0.08966813 0.07586725 0.0627176\n",
            " 0.06492173 0.07160927 0.05815905 0.06191609 0.07271133 0.07140889\n",
            " 0.0787226  0.08721353 0.08721353 0.07664371 0.08112711 0.07484033\n",
            " 0.0803757  0.08696306 0.09036944 0.09896055 0.10068879 0.0952536\n",
            " 0.09773325 0.09680651 0.10427051 0.10852849 0.10076393 0.11060739\n",
            " 0.11571697 0.12150282 0.1183469  0.11549155 0.11211021 0.12510958\n",
            " 0.12651221 0.13943644 0.11976769 0.12176243 0.12336671 0.12457441\n",
            " 0.12545432 0.12609114 0.12655978 0.12691765 0.12720485 0.12744762\n",
            " 0.12766217 0.12785804 0.12804057 0.12821259 0.12837549 0.12852988\n",
            " 0.12867607 0.12881421 0.12894423 0.12906626 0.12918039 0.12928678\n",
            " 0.12938562 0.1294772  0.12956186 0.12963997]\n",
            "26 day output [[0.12971191]]\n",
            "27 day input [0.1463995  0.14584847 0.15168441 0.15125861 0.14922981 0.13763306\n",
            " 0.14036318 0.12513463 0.12455855 0.14226675 0.12726362 0.12804008\n",
            " 0.13184721 0.14822793 0.12505949 0.12633688 0.11326237 0.11939887\n",
            " 0.09933626 0.08946775 0.10086412 0.09693175 0.10619912 0.08510958\n",
            " 0.07641828 0.07701941 0.09084534 0.08395742 0.08435817 0.09252348\n",
            " 0.107201   0.10519724 0.10487163 0.11113338 0.096531   0.09843456\n",
            " 0.10487163 0.10299311 0.08966813 0.07586725 0.0627176  0.06492173\n",
            " 0.07160927 0.05815905 0.06191609 0.07271133 0.07140889 0.0787226\n",
            " 0.08721353 0.08721353 0.07664371 0.08112711 0.07484033 0.0803757\n",
            " 0.08696306 0.09036944 0.09896055 0.10068879 0.0952536  0.09773325\n",
            " 0.09680651 0.10427051 0.10852849 0.10076393 0.11060739 0.11571697\n",
            " 0.12150282 0.1183469  0.11549155 0.11211021 0.12510958 0.12651221\n",
            " 0.13943644 0.11976769 0.12176243 0.12336671 0.12457441 0.12545432\n",
            " 0.12609114 0.12655978 0.12691765 0.12720485 0.12744762 0.12766217\n",
            " 0.12785804 0.12804057 0.12821259 0.12837549 0.12852988 0.12867607\n",
            " 0.12881421 0.12894423 0.12906626 0.12918039 0.12928678 0.12938562\n",
            " 0.1294772  0.12956186 0.12963997 0.12971191]\n",
            "27 day output [[0.12977813]]\n",
            "28 day input [0.14584847 0.15168441 0.15125861 0.14922981 0.13763306 0.14036318\n",
            " 0.12513463 0.12455855 0.14226675 0.12726362 0.12804008 0.13184721\n",
            " 0.14822793 0.12505949 0.12633688 0.11326237 0.11939887 0.09933626\n",
            " 0.08946775 0.10086412 0.09693175 0.10619912 0.08510958 0.07641828\n",
            " 0.07701941 0.09084534 0.08395742 0.08435817 0.09252348 0.107201\n",
            " 0.10519724 0.10487163 0.11113338 0.096531   0.09843456 0.10487163\n",
            " 0.10299311 0.08966813 0.07586725 0.0627176  0.06492173 0.07160927\n",
            " 0.05815905 0.06191609 0.07271133 0.07140889 0.0787226  0.08721353\n",
            " 0.08721353 0.07664371 0.08112711 0.07484033 0.0803757  0.08696306\n",
            " 0.09036944 0.09896055 0.10068879 0.0952536  0.09773325 0.09680651\n",
            " 0.10427051 0.10852849 0.10076393 0.11060739 0.11571697 0.12150282\n",
            " 0.1183469  0.11549155 0.11211021 0.12510958 0.12651221 0.13943644\n",
            " 0.11976769 0.12176243 0.12336671 0.12457441 0.12545432 0.12609114\n",
            " 0.12655978 0.12691765 0.12720485 0.12744762 0.12766217 0.12785804\n",
            " 0.12804057 0.12821259 0.12837549 0.12852988 0.12867607 0.12881421\n",
            " 0.12894423 0.12906626 0.12918039 0.12928678 0.12938562 0.1294772\n",
            " 0.12956186 0.12963997 0.12971191 0.12977813]\n",
            "28 day output [[0.12983908]]\n",
            "29 day input [0.15168441 0.15125861 0.14922981 0.13763306 0.14036318 0.12513463\n",
            " 0.12455855 0.14226675 0.12726362 0.12804008 0.13184721 0.14822793\n",
            " 0.12505949 0.12633688 0.11326237 0.11939887 0.09933626 0.08946775\n",
            " 0.10086412 0.09693175 0.10619912 0.08510958 0.07641828 0.07701941\n",
            " 0.09084534 0.08395742 0.08435817 0.09252348 0.107201   0.10519724\n",
            " 0.10487163 0.11113338 0.096531   0.09843456 0.10487163 0.10299311\n",
            " 0.08966813 0.07586725 0.0627176  0.06492173 0.07160927 0.05815905\n",
            " 0.06191609 0.07271133 0.07140889 0.0787226  0.08721353 0.08721353\n",
            " 0.07664371 0.08112711 0.07484033 0.0803757  0.08696306 0.09036944\n",
            " 0.09896055 0.10068879 0.0952536  0.09773325 0.09680651 0.10427051\n",
            " 0.10852849 0.10076393 0.11060739 0.11571697 0.12150282 0.1183469\n",
            " 0.11549155 0.11211021 0.12510958 0.12651221 0.13943644 0.11976769\n",
            " 0.12176243 0.12336671 0.12457441 0.12545432 0.12609114 0.12655978\n",
            " 0.12691765 0.12720485 0.12744762 0.12766217 0.12785804 0.12804057\n",
            " 0.12821259 0.12837549 0.12852988 0.12867607 0.12881421 0.12894423\n",
            " 0.12906626 0.12918039 0.12928678 0.12938562 0.1294772  0.12956186\n",
            " 0.12963997 0.12971191 0.12977813 0.12983908]\n",
            "29 day output [[0.12989524]]\n",
            "[[0.1197676882147789], [0.12176243215799332], [0.12336671352386475], [0.12457440793514252], [0.12545432150363922], [0.1260911375284195], [0.126559779047966], [0.12691764533519745], [0.12720485031604767], [0.12744762003421783], [0.12766216695308685], [0.12785804271697998], [0.12804056704044342], [0.1282125860452652], [0.12837548553943634], [0.1285298764705658], [0.12867607176303864], [0.1288142055273056], [0.12894423305988312], [0.12906625866889954], [0.12918038666248322], [0.1292867809534073], [0.12938562035560608], [0.12947720289230347], [0.12956185638904572], [0.12963996827602386], [0.12971191108226776], [0.12977813184261322], [0.12983907759189606], [0.12989524006843567]]\n"
          ]
        }
      ]
    },
    {
      "cell_type": "code",
      "source": [
        "day_new=np.arange(1,101)\n",
        "day_pred=np.arange(101,131)"
      ],
      "metadata": {
        "id": "8gW2T8cen9E1"
      },
      "execution_count": 38,
      "outputs": []
    },
    {
      "cell_type": "code",
      "source": [
        "len(df1)"
      ],
      "metadata": {
        "colab": {
          "base_uri": "https://localhost:8080/"
        },
        "id": "rG4tylwqobCX",
        "outputId": "75e66438-3654-48fb-e9b3-0db3ee1b6849"
      },
      "execution_count": 39,
      "outputs": [
        {
          "output_type": "execute_result",
          "data": {
            "text/plain": [
              "1259"
            ]
          },
          "metadata": {},
          "execution_count": 39
        }
      ]
    },
    {
      "cell_type": "code",
      "source": [
        "plt.plot(day_new,scaler.inverse_transform(df1[(len(df1)-100):]), label = \"Test Set\")\n",
        "plt.plot(day_pred,scaler.inverse_transform(lst_output), label = \"Prediction\")\n",
        "\n",
        "plt.title('Stock Closing Price Prediction')\n",
        "plt.xlabel('Time')\n",
        "plt.ylabel('Price')\n",
        "\n",
        "plt.legend()"
      ],
      "metadata": {
        "colab": {
          "base_uri": "https://localhost:8080/",
          "height": 312
        },
        "id": "fyKz-6GBoeTH",
        "outputId": "0c8220f9-bca6-43d5-d0b5-bdf5bc3fc98f"
      },
      "execution_count": 40,
      "outputs": [
        {
          "output_type": "execute_result",
          "data": {
            "text/plain": [
              "<matplotlib.legend.Legend at 0x7fe5a4734ed0>"
            ]
          },
          "metadata": {},
          "execution_count": 40
        },
        {
          "output_type": "display_data",
          "data": {
            "text/plain": [
              "<Figure size 432x288 with 1 Axes>"
            ],
            "image/png": "[encoded data removed]"
          },
          "metadata": {
            "needs_background": "light"
          }
        }
      ]
    },
    {
      "cell_type": "code",
      "source": [
        "df3=df1.tolist()\n",
        "df3.extend(lst_output)\n",
        "plt.plot(df3[1200:])\n",
        "\n",
        "plt.title('Stock Closing Price Prediction')\n",
        "plt.xlabel('Time')\n",
        "plt.ylabel('Price')"
      ],
      "metadata": {
        "colab": {
          "base_uri": "https://localhost:8080/",
          "height": 312
        },
        "id": "mpxacZ7iog1o",
        "outputId": "1378a0f2-f1be-443d-a66c-87aa2eec31b9"
      },
      "execution_count": 41,
      "outputs": [
        {
          "output_type": "execute_result",
          "data": {
            "text/plain": [
              "Text(0, 0.5, 'Price')"
            ]
          },
          "metadata": {},
          "execution_count": 41
        },
        {
          "output_type": "display_data",
          "data": {
            "text/plain": [
              "<Figure size 432x288 with 1 Axes>"
            ],
            "image/png": "[encoded data removed]"
          },
          "metadata": {
            "needs_background": "light"
          }
        }
      ]
    },
    {
      "cell_type": "code",
      "source": [
        "df3=scaler.inverse_transform(df3).tolist()\n",
        "plt.plot(df3)\n",
        "\n",
        "plt.title('Stock Closing Price Prediction')\n",
        "plt.xlabel('Time')\n",
        "plt.ylabel('Price')"
      ],
      "metadata": {
        "colab": {
          "base_uri": "https://localhost:8080/",
          "height": 312
        },
        "id": "27LAwZLppE-J",
        "outputId": "774b581a-93d7-406d-c1e7-118f1f286886"
      },
      "execution_count": 42,
      "outputs": [
        {
          "output_type": "execute_result",
          "data": {
            "text/plain": [
              "Text(0, 0.5, 'Price')"
            ]
          },
          "metadata": {},
          "execution_count": 42
        },
        {
          "output_type": "display_data",
          "data": {
            "text/plain": [
              "<Figure size 432x288 with 1 Axes>"
            ],
            "image/png": "[encoded data removed]"
          },
          "metadata": {
            "needs_background": "light"
          }
        }
      ]
    }
  ]
}